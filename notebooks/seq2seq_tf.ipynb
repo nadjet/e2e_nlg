{
 "cells": [
  {
   "cell_type": "code",
   "execution_count": 1,
   "metadata": {},
   "outputs": [
    {
     "name": "stdout",
     "output_type": "stream",
     "text": [
      "2019-11-20 11:31:16,603 - root - INFO - Maximum size for inputs and outputs is: 42\n",
      "\n",
      "2019-11-20 11:31:16,623 - root - INFO - Size of input vocabulary=56\n",
      "2019-11-20 11:31:16,624 - root - INFO - Size of output vocabulary=1232\n",
      "2019-11-20 11:31:16,625 - root - INFO - Seq2SeqDataBunch;\n",
      "\n",
      "Train: LabelList (40689 items)\n",
      "x: Seq2SeqTextList\n",
      "xxbos xxmaj the xxup xxx , pub , customer rating 5 out of 5 , price range more than £ 30 , near xxup yyy,xxbos xxmaj the xxup xxx , pub , xxmaj english , price range cheap , near xxup yyy,xxbos xxmaj the xxup xxx , coffee shop , xxmaj japanese , customer rating low , price range less than £ 20 , family friendly yes , area riverside , near xxup yyy,xxbos xxmaj the xxup xxx , coffee shop , xxmaj french , price range £ 20 - 25 , area riverside , near the xxup yyy,xxbos xxup xxx , xxmaj french , customer rating high , area riverside , near the xxup yyy\n",
      "y: TextList\n",
      "xxbos xxmaj the xxup xxx pub near xxup yyy has a 5 star rating . xxmaj prices start at £ 30 .,xxbos xxmaj close to xxup yyy , xxmaj the xxup xxx pub serves delicious xxmaj xxunk xxmaj xxunk for the cheap price of £ 10 . 50 . xxmaj delicious xxmaj pub food .,xxbos xxmaj the xxup xxx is a low rated coffee shop near xxup yyy and the riverside that is family friendly and is less than £ 20 for xxmaj japanese food .,xxbos xxmaj located near xxmaj the xxup yyy is a xxmaj french xxmaj theme eatery and coffee shop called xxmaj the xxup xxx , with a price range at £ 20 - £ 25 it is in the riverside area .,xxbos xxmaj for luxurious xxmaj french food , the xxup xxx is located by the river next to xxmaj the xxup yyy .\n",
      "Path: .;\n",
      "\n",
      "Valid: LabelList (4378 items)\n",
      "x: Seq2SeqTextList\n",
      "xxbos xxup xxx , family friendly no , area city centre,xxbos xxup xxx , family friendly no , area city centre,xxbos xxup xxx , family friendly no , area city centre,xxbos xxup xxx , family friendly no , area city centre,xxbos xxup xxx , family friendly no , area city centre\n",
      "y: TextList\n",
      "xxbos xxmaj there is a place in the city centre , xxup xxx , that is not family - friendly .,xxbos xxmaj in the city centre there is a venue name xxup xxx , this is not a family - friendly venue .,xxbos xxup xxx is not a family - friendly place , located in city centre .,xxbos xxup xxx is not a family - friendly xxunk and is located in the city centre .,xxbos xxup xxx is not a family - friendly place in the city centre .\n",
      "Path: .;\n",
      "\n",
      "Test: None\n"
     ]
    },
    {
     "name": "stderr",
     "output_type": "stream",
     "text": [
      "\n"
     ]
    },
    {
     "name": "stdout",
     "output_type": "stream",
     "text": [
      "xxunk\n",
      "xxpad\n",
      "xxbos\n",
      "xxeos\n",
      "xxfld\n",
      "xxmaj\n",
      "xxup\n",
      "xxrep\n",
      "xxwrep\n",
      "xxunk\n",
      "xxpad\n",
      "xxbos\n",
      "xxeos\n",
      "xxfld\n",
      "xxmaj\n",
      "xxup\n",
      "xxrep\n",
      "xxwrep\n",
      "n't\n",
      "xxxs\n",
      "clentele\n",
      "d'oeuvres\n",
      "-stars\n",
      "d'oeuvre\n",
      "-priced\n",
      "yyyn\n",
      "caféteria\n",
      "2019-11-20 11:32:32,505 - root - INFO - Encoder embeddings saved to: ./enc_emb.pth\n",
      "2019-11-20 11:32:32,511 - root - INFO - Encoder embeddings saved to: ./dec_emb.pth\n"
     ]
    },
    {
     "name": "stderr",
     "output_type": "stream",
     "text": [
      "/Users/nadjet/Work/seq2seq/seq2seq_venv/lib/python3.7/site-packages/torch/serialization.py:292: UserWarning: Couldn't retrieve source code for container of type Embedding. It won't be checked for correctness upon loading.\n",
      "  \"type \" + obj.__name__ + \". It won't be checked \"\n"
     ]
    }
   ],
   "source": [
    "# requires installing nbformat\n",
    "\n",
    "%run init.ipynb"
   ]
  },
  {
   "cell_type": "code",
   "execution_count": 2,
   "metadata": {},
   "outputs": [],
   "source": [
    "from seq2seq.seq2seq_tf import Seq2SeqRNN_tf\n",
    "from fastai.text import Learner, partial\n",
    "from utils.loss import Loss\n",
    "from utils.bleu import CorpusBLEU\n",
    "from utils.teacher_forcing import TeacherForcing\n",
    "from utils.metrics import Metrics\n",
    "from utils.predict import *\n",
    "import random"
   ]
  },
  {
   "cell_type": "code",
   "execution_count": 3,
   "metadata": {},
   "outputs": [
    {
     "data": {
      "text/plain": [
       "42"
      ]
     },
     "execution_count": 3,
     "metadata": {},
     "output_type": "execute_result"
    }
   ],
   "source": [
    "dl.max_size"
   ]
  },
  {
   "cell_type": "code",
   "execution_count": 4,
   "metadata": {},
   "outputs": [],
   "source": [
    "HIDDEN_LAYER_SIZE = 64\n",
    "MAX_SIZE = dl.max_size\n",
    "emb_enc = embs.emb_enc\n",
    "emb_dec = embs.emb_dec\n",
    "data = dl.data\n",
    "seq2seq_loss = Loss.seq2seq_loss\n",
    "seq2seq_acc = Metrics.seq2seq_acc"
   ]
  },
  {
   "cell_type": "code",
   "execution_count": 16,
   "metadata": {},
   "outputs": [],
   "source": [
    "rnn_tf = Seq2SeqRNN_tf(emb_enc, emb_dec, HIDDEN_LAYER_SIZE, MAX_SIZE)\n",
    "\n",
    "learn = Learner(data, rnn_tf, loss_func=seq2seq_loss, metrics=[seq2seq_acc, CorpusBLEU(len(data.y.vocab.itos))],\n",
    "               callback_fns=partial(TeacherForcing, end_epoch=10))"
   ]
  },
  {
   "cell_type": "markdown",
   "metadata": {},
   "source": [
    "## Training model"
   ]
  },
  {
   "cell_type": "code",
   "execution_count": 17,
   "metadata": {},
   "outputs": [
    {
     "data": {
      "text/html": [],
      "text/plain": [
       "<IPython.core.display.HTML object>"
      ]
     },
     "metadata": {},
     "output_type": "display_data"
    },
    {
     "name": "stdout",
     "output_type": "stream",
     "text": [
      "LR Finder is complete, type {learner_name}.recorder.plot() to see the graph.\n"
     ]
    }
   ],
   "source": [
    "learn.lr_find()"
   ]
  },
  {
   "cell_type": "code",
   "execution_count": 18,
   "metadata": {},
   "outputs": [
    {
     "name": "stdout",
     "output_type": "stream",
     "text": [
      "Min numerical gradient: 4.37E-03\n",
      "Min loss divided by 10: 8.32E-03\n"
     ]
    },
    {
     "data": {
      "image/png": "[encoded data removed]",
      "text/plain": [
       "<Figure size 432x288 with 1 Axes>"
      ]
     },
     "metadata": {
      "needs_background": "light"
     },
     "output_type": "display_data"
    }
   ],
   "source": [
    "learn.recorder.plot(suggestion=True,skip_end=10)"
   ]
  },
  {
   "cell_type": "code",
   "execution_count": null,
   "metadata": {},
   "outputs": [
    {
     "data": {
      "text/html": [
       "\n",
       "    <div>\n",
       "        <style>\n",
       "            /* Turns off some styling */\n",
       "            progress {\n",
       "                /* gets rid of default border in Firefox and Opera. */\n",
       "                border: none;\n",
       "                /* Needs to be in here for Safari polyfill so background images work as expected. */\n",
       "                background-size: auto;\n",
       "            }\n",
       "            .progress-bar-interrupted, .progress-bar-interrupted::-webkit-progress-bar {\n",
       "                background: #F44336;\n",
       "            }\n",
       "        </style>\n",
       "      <progress value='1' class='' max='10', style='width:300px; height:20px; vertical-align: middle;'></progress>\n",
       "      10.00% [1/10 06:33<59:02]\n",
       "    </div>\n",
       "    \n",
       "<table border=\"1\" class=\"dataframe\">\n",
       "  <thead>\n",
       "    <tr style=\"text-align: left;\">\n",
       "      <th>epoch</th>\n",
       "      <th>train_loss</th>\n",
       "      <th>valid_loss</th>\n",
       "      <th>seq2seq_acc</th>\n",
       "      <th>bleu</th>\n",
       "      <th>time</th>\n",
       "    </tr>\n",
       "  </thead>\n",
       "  <tbody>\n",
       "    <tr>\n",
       "      <td>0</td>\n",
       "      <td>1.015943</td>\n",
       "      <td>6.527029</td>\n",
       "      <td>0.214527</td>\n",
       "      <td>0.275883</td>\n",
       "      <td>06:33</td>\n",
       "    </tr>\n",
       "  </tbody>\n",
       "</table><p>\n",
       "\n",
       "    <div>\n",
       "        <style>\n",
       "            /* Turns off some styling */\n",
       "            progress {\n",
       "                /* gets rid of default border in Firefox and Opera. */\n",
       "                border: none;\n",
       "                /* Needs to be in here for Safari polyfill so background images work as expected. */\n",
       "                background-size: auto;\n",
       "            }\n",
       "            .progress-bar-interrupted, .progress-bar-interrupted::-webkit-progress-bar {\n",
       "                background: #F44336;\n",
       "            }\n",
       "        </style>\n",
       "      <progress value='257' class='' max='635', style='width:300px; height:20px; vertical-align: middle;'></progress>\n",
       "      40.47% [257/635 02:31<03:43 1.0277]\n",
       "    </div>\n",
       "    "
      ],
      "text/plain": [
       "<IPython.core.display.HTML object>"
      ]
     },
     "metadata": {},
     "output_type": "display_data"
    }
   ],
   "source": [
    "learn.fit_one_cycle(10, 4.37E-03)"
   ]
  },
  {
   "cell_type": "code",
   "execution_count": 13,
   "metadata": {},
   "outputs": [
    {
     "data": {
      "image/png": "[encoded data removed]",
      "text/plain": [
       "<Figure size 432x288 with 1 Axes>"
      ]
     },
     "metadata": {
      "needs_background": "light"
     },
     "output_type": "display_data"
    }
   ],
   "source": [
    "learn.recorder.plot_losses()"
   ]
  },
  {
   "cell_type": "code",
   "execution_count": 14,
   "metadata": {},
   "outputs": [
    {
     "data": {
      "text/html": [
       "\n",
       "    <div>\n",
       "        <style>\n",
       "            /* Turns off some styling */\n",
       "            progress {\n",
       "                /* gets rid of default border in Firefox and Opera. */\n",
       "                border: none;\n",
       "                /* Needs to be in here for Safari polyfill so background images work as expected. */\n",
       "                background-size: auto;\n",
       "            }\n",
       "            .progress-bar-interrupted, .progress-bar-interrupted::-webkit-progress-bar {\n",
       "                background: #F44336;\n",
       "            }\n",
       "        </style>\n",
       "      <progress value='69' class='' max='69', style='width:300px; height:20px; vertical-align: middle;'></progress>\n",
       "      100.00% [69/69 00:12<00:00]\n",
       "    </div>\n",
       "    "
      ],
      "text/plain": [
       "<IPython.core.display.HTML object>"
      ]
     },
     "metadata": {},
     "output_type": "display_data"
    }
   ],
   "source": [
    "inputs, targets, outputs = get_predictions(learn)"
   ]
  },
  {
   "cell_type": "code",
   "execution_count": null,
   "metadata": {},
   "outputs": [],
   "source": [
    "inputs[700], targets[700], outputs[700]"
   ]
  },
  {
   "cell_type": "code",
   "execution_count": 15,
   "metadata": {},
   "outputs": [
    {
     "data": {
      "text/plain": [
       "(Text xxbos xxup xxx , coffee shop , xxmaj english , customer rating 3 out of 5 , family friendly yes , area riverside,\n",
       " Text xxbos xxmaj there is a friendly for kids coffee shop called xxup xxx that provides xxmaj english food in the riverside area . xxmaj the customer rating is 3 out of 5 .,\n",
       " Text xxbos xxmaj the xxup xxx is a xxmaj the xxup xxx is a xxmaj the xxup xxx is a xxmaj the xxup xxx is a xxmaj the xxup xxx restaurant at xxmaj the xxup xxx is a xxmaj the xxup xxx restaurant)"
      ]
     },
     "execution_count": 15,
     "metadata": {},
     "output_type": "execute_result"
    }
   ],
   "source": [
    "inputs[2513], targets[2513], outputs[2513]"
   ]
  },
  {
   "cell_type": "code",
   "execution_count": 15,
   "metadata": {},
   "outputs": [
    {
     "data": {
      "text/plain": [
       "(Text xxbos xxmaj the xxup xxx , customer rating 3 out of 5 , area riverside,\n",
       " Text xxbos xxmaj the xxup xxx along the riverside is rated 3 out of 5 .,\n",
       " Text xxbos xxmaj the xxup xxx is a riverside restaurant with a customer rating of 3 out of 5 .)"
      ]
     },
     "execution_count": 15,
     "metadata": {},
     "output_type": "execute_result"
    }
   ],
   "source": [
    "inputs[4000], targets[4000], outputs[4000]"
   ]
  },
  {
   "cell_type": "code",
   "execution_count": 16,
   "metadata": {},
   "outputs": [],
   "source": [
    "learn.save('model_tf')"
   ]
  },
  {
   "cell_type": "markdown",
   "metadata": {},
   "source": [
    "## Get predictions from dataframe"
   ]
  },
  {
   "cell_type": "code",
   "execution_count": 32,
   "metadata": {},
   "outputs": [
    {
     "name": "stdout",
     "output_type": "stream",
     "text": [
      "2019-11-20 10:47:26,642 - root - INFO - Maximum size for inputs and outputs is: 95\n",
      "\n",
      "2019-11-20 10:47:28,368 - root - INFO - Size of input vocabulary=56\n",
      "2019-11-20 10:47:28,369 - root - INFO - Size of output vocabulary=1232\n",
      "2019-11-20 10:47:28,370 - root - INFO - Seq2SeqDataBunch;\n",
      "\n",
      "Train: LabelList (42061 items)\n",
      "x: Seq2SeqTextList\n",
      "xxbos xxmaj the xxup xxx , pub , customer rating 5 out of 5 , price range more than £ 30 , near xxup yyy,xxbos xxmaj the xxup xxx , pub , xxmaj english , price range cheap , near xxup yyy,xxbos xxmaj the xxup xxx , coffee shop , xxmaj japanese , customer rating low , price range less than £ 20 , family friendly yes , area riverside , near xxup yyy,xxbos xxmaj the xxup xxx , coffee shop , xxmaj french , price range £ 20 - 25 , area riverside , near the xxup yyy,xxbos xxup xxx , xxmaj french , customer rating high , area riverside , near the xxup yyy\n",
      "y: TextList\n",
      "xxbos xxmaj the xxup xxx pub near xxup yyy has a 5 star rating . xxmaj prices start at £ 30 .,xxbos xxmaj close to xxup yyy , xxmaj the xxup xxx pub serves delicious xxmaj xxunk xxmaj xxunk for the cheap price of £ 10 . 50 . xxmaj delicious xxmaj pub food .,xxbos xxmaj the xxup xxx is a low rated coffee shop near xxup yyy and the riverside that is family friendly and is less than £ 20 for xxmaj japanese food .,xxbos xxmaj located near xxmaj the xxup yyy is a xxmaj french xxmaj theme eatery and coffee shop called xxmaj the xxup xxx , with a price range at £ 20 - £ 25 it is in the riverside area .,xxbos xxmaj for luxurious xxmaj french food , the xxup xxx is located by the river next to xxmaj the xxup yyy .\n",
      "Path: .;\n",
      "\n",
      "Valid: LabelList (4672 items)\n",
      "x: Seq2SeqTextList\n",
      "xxbos xxup xxx , family friendly no , area city centre,xxbos xxup xxx , family friendly no , area city centre,xxbos xxup xxx , family friendly no , area city centre,xxbos xxup xxx , family friendly no , area city centre,xxbos xxup xxx , family friendly no , area city centre\n",
      "y: TextList\n",
      "xxbos xxmaj there is a place in the city centre , xxup xxx , that is not family - friendly .,xxbos xxmaj in the city centre there is a venue name xxup xxx , this is not a family - friendly venue .,xxbos xxup xxx is not a family - friendly place , located in city centre .,xxbos xxup xxx is not a family - friendly xxunk and is located in the city centre .,xxbos xxup xxx is not a family - friendly place in the city centre .\n",
      "Path: .;\n",
      "\n",
      "Test: None\n"
     ]
    }
   ],
   "source": [
    "dl0 = E2ENLGDataLoader(dataset_path,\"trainset.csv\",\"devset.csv\",percentile=100)\n",
    "dl0.setDataAndMaxSize()"
   ]
  },
  {
   "cell_type": "code",
   "execution_count": 33,
   "metadata": {},
   "outputs": [],
   "source": [
    "HIDDEN_LAYER_SIZE = 64\n",
    "MAX_SIZE = dl.max_size\n",
    "emb_enc = embs.emb_enc\n",
    "emb_dec = embs.emb_dec\n",
    "data = dl0.data\n",
    "seq2seq_loss = Loss.seq2seq_loss\n",
    "seq2seq_acc = Metrics.seq2seq_acc\n",
    "\n",
    "rnn_tf = Seq2SeqRNN_tf(emb_enc, emb_dec, HIDDEN_LAYER_SIZE, MAX_SIZE)\n",
    "\n",
    "learn = Learner(data, rnn_tf, loss_func=seq2seq_loss, metrics=[seq2seq_acc, CorpusBLEU(len(data.y.vocab.itos))],\n",
    "               callback_fns=partial(TeacherForcing, end_epoch=10))"
   ]
  },
  {
   "cell_type": "code",
   "execution_count": 34,
   "metadata": {},
   "outputs": [
    {
     "ename": "FileNotFoundError",
     "evalue": "[Errno 2] No such file or directory: 'models/model_tf.pth'",
     "output_type": "error",
     "traceback": [
      "\u001b[0;31m---------------------------------------------------------------------------\u001b[0m",
      "\u001b[0;31mFileNotFoundError\u001b[0m                         Traceback (most recent call last)",
      "\u001b[0;32m<ipython-input-34-234b3486086b>\u001b[0m in \u001b[0;36m<module>\u001b[0;34m\u001b[0m\n\u001b[0;32m----> 1\u001b[0;31m \u001b[0mlearn\u001b[0m \u001b[0;34m=\u001b[0m \u001b[0mlearn\u001b[0m\u001b[0;34m.\u001b[0m\u001b[0mload\u001b[0m\u001b[0;34m(\u001b[0m\u001b[0;34m'model_tf'\u001b[0m\u001b[0;34m)\u001b[0m\u001b[0;34m\u001b[0m\u001b[0;34m\u001b[0m\u001b[0m\n\u001b[0m\u001b[1;32m      2\u001b[0m \u001b[0mlearn\u001b[0m\u001b[0;34m\u001b[0m\u001b[0;34m\u001b[0m\u001b[0m\n",
      "\u001b[0;32m~/Work/seq2seq/seq2seq_venv/lib/python3.7/site-packages/fastai/basic_train.py\u001b[0m in \u001b[0;36mload\u001b[0;34m(self, file, device, strict, with_opt, purge, remove_module)\u001b[0m\n\u001b[1;32m    265\u001b[0m         \u001b[0;32melif\u001b[0m \u001b[0misinstance\u001b[0m\u001b[0;34m(\u001b[0m\u001b[0mdevice\u001b[0m\u001b[0;34m,\u001b[0m \u001b[0mint\u001b[0m\u001b[0;34m)\u001b[0m\u001b[0;34m:\u001b[0m \u001b[0mdevice\u001b[0m \u001b[0;34m=\u001b[0m \u001b[0mtorch\u001b[0m\u001b[0;34m.\u001b[0m\u001b[0mdevice\u001b[0m\u001b[0;34m(\u001b[0m\u001b[0;34m'cuda'\u001b[0m\u001b[0;34m,\u001b[0m \u001b[0mdevice\u001b[0m\u001b[0;34m)\u001b[0m\u001b[0;34m\u001b[0m\u001b[0;34m\u001b[0m\u001b[0m\n\u001b[1;32m    266\u001b[0m         \u001b[0msource\u001b[0m \u001b[0;34m=\u001b[0m \u001b[0mself\u001b[0m\u001b[0;34m.\u001b[0m\u001b[0mpath\u001b[0m\u001b[0;34m/\u001b[0m\u001b[0mself\u001b[0m\u001b[0;34m.\u001b[0m\u001b[0mmodel_dir\u001b[0m\u001b[0;34m/\u001b[0m\u001b[0;34mf'{file}.pth'\u001b[0m \u001b[0;32mif\u001b[0m \u001b[0mis_pathlike\u001b[0m\u001b[0;34m(\u001b[0m\u001b[0mfile\u001b[0m\u001b[0;34m)\u001b[0m \u001b[0;32melse\u001b[0m \u001b[0mfile\u001b[0m\u001b[0;34m\u001b[0m\u001b[0;34m\u001b[0m\u001b[0m\n\u001b[0;32m--> 267\u001b[0;31m         \u001b[0mstate\u001b[0m \u001b[0;34m=\u001b[0m \u001b[0mtorch\u001b[0m\u001b[0;34m.\u001b[0m\u001b[0mload\u001b[0m\u001b[0;34m(\u001b[0m\u001b[0msource\u001b[0m\u001b[0;34m,\u001b[0m \u001b[0mmap_location\u001b[0m\u001b[0;34m=\u001b[0m\u001b[0mdevice\u001b[0m\u001b[0;34m)\u001b[0m\u001b[0;34m\u001b[0m\u001b[0;34m\u001b[0m\u001b[0m\n\u001b[0m\u001b[1;32m    268\u001b[0m         \u001b[0;32mif\u001b[0m \u001b[0mset\u001b[0m\u001b[0;34m(\u001b[0m\u001b[0mstate\u001b[0m\u001b[0;34m.\u001b[0m\u001b[0mkeys\u001b[0m\u001b[0;34m(\u001b[0m\u001b[0;34m)\u001b[0m\u001b[0;34m)\u001b[0m \u001b[0;34m==\u001b[0m \u001b[0;34m{\u001b[0m\u001b[0;34m'model'\u001b[0m\u001b[0;34m,\u001b[0m \u001b[0;34m'opt'\u001b[0m\u001b[0;34m}\u001b[0m\u001b[0;34m:\u001b[0m\u001b[0;34m\u001b[0m\u001b[0;34m\u001b[0m\u001b[0m\n\u001b[1;32m    269\u001b[0m             \u001b[0mmodel_state\u001b[0m \u001b[0;34m=\u001b[0m \u001b[0mstate\u001b[0m\u001b[0;34m[\u001b[0m\u001b[0;34m'model'\u001b[0m\u001b[0;34m]\u001b[0m\u001b[0;34m\u001b[0m\u001b[0;34m\u001b[0m\u001b[0m\n",
      "\u001b[0;32m~/Work/seq2seq/seq2seq_venv/lib/python3.7/site-packages/torch/serialization.py\u001b[0m in \u001b[0;36mload\u001b[0;34m(f, map_location, pickle_module, **pickle_load_args)\u001b[0m\n\u001b[1;32m    420\u001b[0m     \u001b[0;32melif\u001b[0m \u001b[0;34m(\u001b[0m\u001b[0msys\u001b[0m\u001b[0;34m.\u001b[0m\u001b[0mversion_info\u001b[0m\u001b[0;34m[\u001b[0m\u001b[0;36m0\u001b[0m\u001b[0;34m]\u001b[0m \u001b[0;34m==\u001b[0m \u001b[0;36m3\u001b[0m \u001b[0;32mand\u001b[0m \u001b[0misinstance\u001b[0m\u001b[0;34m(\u001b[0m\u001b[0mf\u001b[0m\u001b[0;34m,\u001b[0m \u001b[0mpathlib\u001b[0m\u001b[0;34m.\u001b[0m\u001b[0mPath\u001b[0m\u001b[0;34m)\u001b[0m\u001b[0;34m)\u001b[0m\u001b[0;34m:\u001b[0m\u001b[0;34m\u001b[0m\u001b[0;34m\u001b[0m\u001b[0m\n\u001b[1;32m    421\u001b[0m         \u001b[0mnew_fd\u001b[0m \u001b[0;34m=\u001b[0m \u001b[0;32mTrue\u001b[0m\u001b[0;34m\u001b[0m\u001b[0;34m\u001b[0m\u001b[0m\n\u001b[0;32m--> 422\u001b[0;31m         \u001b[0mf\u001b[0m \u001b[0;34m=\u001b[0m \u001b[0mf\u001b[0m\u001b[0;34m.\u001b[0m\u001b[0mopen\u001b[0m\u001b[0;34m(\u001b[0m\u001b[0;34m'rb'\u001b[0m\u001b[0;34m)\u001b[0m\u001b[0;34m\u001b[0m\u001b[0;34m\u001b[0m\u001b[0m\n\u001b[0m\u001b[1;32m    423\u001b[0m     \u001b[0;32mtry\u001b[0m\u001b[0;34m:\u001b[0m\u001b[0;34m\u001b[0m\u001b[0;34m\u001b[0m\u001b[0m\n\u001b[1;32m    424\u001b[0m         \u001b[0;32mif\u001b[0m \u001b[0msys\u001b[0m\u001b[0;34m.\u001b[0m\u001b[0mversion_info\u001b[0m \u001b[0;34m>=\u001b[0m \u001b[0;34m(\u001b[0m\u001b[0;36m3\u001b[0m\u001b[0;34m,\u001b[0m \u001b[0;36m0\u001b[0m\u001b[0;34m)\u001b[0m \u001b[0;32mand\u001b[0m \u001b[0;34m'encoding'\u001b[0m \u001b[0;32mnot\u001b[0m \u001b[0;32min\u001b[0m \u001b[0mpickle_load_args\u001b[0m\u001b[0;34m.\u001b[0m\u001b[0mkeys\u001b[0m\u001b[0;34m(\u001b[0m\u001b[0;34m)\u001b[0m\u001b[0;34m:\u001b[0m\u001b[0;34m\u001b[0m\u001b[0;34m\u001b[0m\u001b[0m\n",
      "\u001b[0;32m/usr/local/Cellar/python/3.7.4_1/Frameworks/Python.framework/Versions/3.7/lib/python3.7/pathlib.py\u001b[0m in \u001b[0;36mopen\u001b[0;34m(self, mode, buffering, encoding, errors, newline)\u001b[0m\n\u001b[1;32m   1191\u001b[0m             \u001b[0mself\u001b[0m\u001b[0;34m.\u001b[0m\u001b[0m_raise_closed\u001b[0m\u001b[0;34m(\u001b[0m\u001b[0;34m)\u001b[0m\u001b[0;34m\u001b[0m\u001b[0;34m\u001b[0m\u001b[0m\n\u001b[1;32m   1192\u001b[0m         return io.open(self, mode, buffering, encoding, errors, newline,\n\u001b[0;32m-> 1193\u001b[0;31m                        opener=self._opener)\n\u001b[0m\u001b[1;32m   1194\u001b[0m \u001b[0;34m\u001b[0m\u001b[0m\n\u001b[1;32m   1195\u001b[0m     \u001b[0;32mdef\u001b[0m \u001b[0mread_bytes\u001b[0m\u001b[0;34m(\u001b[0m\u001b[0mself\u001b[0m\u001b[0;34m)\u001b[0m\u001b[0;34m:\u001b[0m\u001b[0;34m\u001b[0m\u001b[0;34m\u001b[0m\u001b[0m\n",
      "\u001b[0;32m/usr/local/Cellar/python/3.7.4_1/Frameworks/Python.framework/Versions/3.7/lib/python3.7/pathlib.py\u001b[0m in \u001b[0;36m_opener\u001b[0;34m(self, name, flags, mode)\u001b[0m\n\u001b[1;32m   1044\u001b[0m     \u001b[0;32mdef\u001b[0m \u001b[0m_opener\u001b[0m\u001b[0;34m(\u001b[0m\u001b[0mself\u001b[0m\u001b[0;34m,\u001b[0m \u001b[0mname\u001b[0m\u001b[0;34m,\u001b[0m \u001b[0mflags\u001b[0m\u001b[0;34m,\u001b[0m \u001b[0mmode\u001b[0m\u001b[0;34m=\u001b[0m\u001b[0;36m0o666\u001b[0m\u001b[0;34m)\u001b[0m\u001b[0;34m:\u001b[0m\u001b[0;34m\u001b[0m\u001b[0;34m\u001b[0m\u001b[0m\n\u001b[1;32m   1045\u001b[0m         \u001b[0;31m# A stub for the opener argument to built-in open()\u001b[0m\u001b[0;34m\u001b[0m\u001b[0;34m\u001b[0m\u001b[0;34m\u001b[0m\u001b[0m\n\u001b[0;32m-> 1046\u001b[0;31m         \u001b[0;32mreturn\u001b[0m \u001b[0mself\u001b[0m\u001b[0;34m.\u001b[0m\u001b[0m_accessor\u001b[0m\u001b[0;34m.\u001b[0m\u001b[0mopen\u001b[0m\u001b[0;34m(\u001b[0m\u001b[0mself\u001b[0m\u001b[0;34m,\u001b[0m \u001b[0mflags\u001b[0m\u001b[0;34m,\u001b[0m \u001b[0mmode\u001b[0m\u001b[0;34m)\u001b[0m\u001b[0;34m\u001b[0m\u001b[0;34m\u001b[0m\u001b[0m\n\u001b[0m\u001b[1;32m   1047\u001b[0m \u001b[0;34m\u001b[0m\u001b[0m\n\u001b[1;32m   1048\u001b[0m     \u001b[0;32mdef\u001b[0m \u001b[0m_raw_open\u001b[0m\u001b[0;34m(\u001b[0m\u001b[0mself\u001b[0m\u001b[0;34m,\u001b[0m \u001b[0mflags\u001b[0m\u001b[0;34m,\u001b[0m \u001b[0mmode\u001b[0m\u001b[0;34m=\u001b[0m\u001b[0;36m0o777\u001b[0m\u001b[0;34m)\u001b[0m\u001b[0;34m:\u001b[0m\u001b[0;34m\u001b[0m\u001b[0;34m\u001b[0m\u001b[0m\n",
      "\u001b[0;31mFileNotFoundError\u001b[0m: [Errno 2] No such file or directory: 'models/model_tf.pth'"
     ]
    }
   ],
   "source": [
    "learn = learn.load('model_tf')\n",
    "learn"
   ]
  },
  {
   "cell_type": "code",
   "execution_count": 9,
   "metadata": {},
   "outputs": [
    {
     "data": {
      "text/html": [
       "\n",
       "    <div>\n",
       "        <style>\n",
       "            /* Turns off some styling */\n",
       "            progress {\n",
       "                /* gets rid of default border in Firefox and Opera. */\n",
       "                border: none;\n",
       "                /* Needs to be in here for Safari polyfill so background images work as expected. */\n",
       "                background-size: auto;\n",
       "            }\n",
       "            .progress-bar-interrupted, .progress-bar-interrupted::-webkit-progress-bar {\n",
       "                background: #F44336;\n",
       "            }\n",
       "        </style>\n",
       "      <progress value='0' class='progress-bar-interrupted' max='657', style='width:300px; height:20px; vertical-align: middle;'></progress>\n",
       "      Interrupted\n",
       "    </div>\n",
       "    "
      ],
      "text/plain": [
       "<IPython.core.display.HTML object>"
      ]
     },
     "metadata": {},
     "output_type": "display_data"
    },
    {
     "ename": "KeyboardInterrupt",
     "evalue": "",
     "output_type": "error",
     "traceback": [
      "\u001b[0;31m---------------------------------------------------------------------------\u001b[0m",
      "\u001b[0;31mKeyboardInterrupt\u001b[0m                         Traceback (most recent call last)",
      "\u001b[0;32m<ipython-input-9-6e0573bddfe4>\u001b[0m in \u001b[0;36m<module>\u001b[0;34m\u001b[0m\n\u001b[0;32m----> 1\u001b[0;31m \u001b[0minputs\u001b[0m\u001b[0;34m,\u001b[0m \u001b[0mtargets\u001b[0m\u001b[0;34m,\u001b[0m \u001b[0moutputs\u001b[0m \u001b[0;34m=\u001b[0m \u001b[0mget_predictions\u001b[0m\u001b[0;34m(\u001b[0m\u001b[0mlearn\u001b[0m\u001b[0;34m,\u001b[0m\u001b[0mds_type\u001b[0m\u001b[0;34m=\u001b[0m\u001b[0mDatasetType\u001b[0m\u001b[0;34m.\u001b[0m\u001b[0mTrain\u001b[0m\u001b[0;34m)\u001b[0m\u001b[0;34m\u001b[0m\u001b[0;34m\u001b[0m\u001b[0m\n\u001b[0m",
      "\u001b[0;32m~/Work/seq2seq/utils/predict.py\u001b[0m in \u001b[0;36mget_predictions\u001b[0;34m(learn, ds_type)\u001b[0m\n\u001b[1;32m     69\u001b[0m     \u001b[0;32mwith\u001b[0m \u001b[0mtorch\u001b[0m\u001b[0;34m.\u001b[0m\u001b[0mno_grad\u001b[0m\u001b[0;34m(\u001b[0m\u001b[0;34m)\u001b[0m\u001b[0;34m:\u001b[0m\u001b[0;34m\u001b[0m\u001b[0;34m\u001b[0m\u001b[0m\n\u001b[1;32m     70\u001b[0m         \u001b[0;32mfor\u001b[0m \u001b[0mxb\u001b[0m\u001b[0;34m,\u001b[0m\u001b[0myb\u001b[0m \u001b[0;32min\u001b[0m \u001b[0mprogress_bar\u001b[0m\u001b[0;34m(\u001b[0m\u001b[0mlearn\u001b[0m\u001b[0;34m.\u001b[0m\u001b[0mdl\u001b[0m\u001b[0;34m(\u001b[0m\u001b[0mds_type\u001b[0m\u001b[0;34m)\u001b[0m\u001b[0;34m)\u001b[0m\u001b[0;34m:\u001b[0m\u001b[0;34m\u001b[0m\u001b[0;34m\u001b[0m\u001b[0m\n\u001b[0;32m---> 71\u001b[0;31m             \u001b[0mout\u001b[0m \u001b[0;34m=\u001b[0m \u001b[0mlearn\u001b[0m\u001b[0;34m.\u001b[0m\u001b[0mmodel\u001b[0m\u001b[0;34m(\u001b[0m\u001b[0mxb\u001b[0m\u001b[0;34m)\u001b[0m\u001b[0;34m\u001b[0m\u001b[0;34m\u001b[0m\u001b[0m\n\u001b[0m\u001b[1;32m     72\u001b[0m             \u001b[0;32mfor\u001b[0m \u001b[0mx\u001b[0m\u001b[0;34m,\u001b[0m\u001b[0my\u001b[0m\u001b[0;34m,\u001b[0m\u001b[0mz\u001b[0m \u001b[0;32min\u001b[0m \u001b[0mzip\u001b[0m\u001b[0;34m(\u001b[0m\u001b[0mxb\u001b[0m\u001b[0;34m,\u001b[0m\u001b[0myb\u001b[0m\u001b[0;34m,\u001b[0m\u001b[0mout\u001b[0m\u001b[0;34m)\u001b[0m\u001b[0;34m:\u001b[0m\u001b[0;34m\u001b[0m\u001b[0;34m\u001b[0m\u001b[0m\n\u001b[1;32m     73\u001b[0m                 \u001b[0minputs\u001b[0m\u001b[0;34m.\u001b[0m\u001b[0mappend\u001b[0m\u001b[0;34m(\u001b[0m\u001b[0mlearn\u001b[0m\u001b[0;34m.\u001b[0m\u001b[0mdata\u001b[0m\u001b[0;34m.\u001b[0m\u001b[0mtrain_ds\u001b[0m\u001b[0;34m.\u001b[0m\u001b[0mx\u001b[0m\u001b[0;34m.\u001b[0m\u001b[0mreconstruct\u001b[0m\u001b[0;34m(\u001b[0m\u001b[0mx\u001b[0m\u001b[0;34m)\u001b[0m\u001b[0;34m)\u001b[0m\u001b[0;34m\u001b[0m\u001b[0;34m\u001b[0m\u001b[0m\n",
      "\u001b[0;32m~/Work/seq2seq/seq2seq_venv/lib/python3.7/site-packages/torch/nn/modules/module.py\u001b[0m in \u001b[0;36m__call__\u001b[0;34m(self, *input, **kwargs)\u001b[0m\n\u001b[1;32m    539\u001b[0m             \u001b[0mresult\u001b[0m \u001b[0;34m=\u001b[0m \u001b[0mself\u001b[0m\u001b[0;34m.\u001b[0m\u001b[0m_slow_forward\u001b[0m\u001b[0;34m(\u001b[0m\u001b[0;34m*\u001b[0m\u001b[0minput\u001b[0m\u001b[0;34m,\u001b[0m \u001b[0;34m**\u001b[0m\u001b[0mkwargs\u001b[0m\u001b[0;34m)\u001b[0m\u001b[0;34m\u001b[0m\u001b[0;34m\u001b[0m\u001b[0m\n\u001b[1;32m    540\u001b[0m         \u001b[0;32melse\u001b[0m\u001b[0;34m:\u001b[0m\u001b[0;34m\u001b[0m\u001b[0;34m\u001b[0m\u001b[0m\n\u001b[0;32m--> 541\u001b[0;31m             \u001b[0mresult\u001b[0m \u001b[0;34m=\u001b[0m \u001b[0mself\u001b[0m\u001b[0;34m.\u001b[0m\u001b[0mforward\u001b[0m\u001b[0;34m(\u001b[0m\u001b[0;34m*\u001b[0m\u001b[0minput\u001b[0m\u001b[0;34m,\u001b[0m \u001b[0;34m**\u001b[0m\u001b[0mkwargs\u001b[0m\u001b[0;34m)\u001b[0m\u001b[0;34m\u001b[0m\u001b[0;34m\u001b[0m\u001b[0m\n\u001b[0m\u001b[1;32m    542\u001b[0m         \u001b[0;32mfor\u001b[0m \u001b[0mhook\u001b[0m \u001b[0;32min\u001b[0m \u001b[0mself\u001b[0m\u001b[0;34m.\u001b[0m\u001b[0m_forward_hooks\u001b[0m\u001b[0;34m.\u001b[0m\u001b[0mvalues\u001b[0m\u001b[0;34m(\u001b[0m\u001b[0;34m)\u001b[0m\u001b[0;34m:\u001b[0m\u001b[0;34m\u001b[0m\u001b[0;34m\u001b[0m\u001b[0m\n\u001b[1;32m    543\u001b[0m             \u001b[0mhook_result\u001b[0m \u001b[0;34m=\u001b[0m \u001b[0mhook\u001b[0m\u001b[0;34m(\u001b[0m\u001b[0mself\u001b[0m\u001b[0;34m,\u001b[0m \u001b[0minput\u001b[0m\u001b[0;34m,\u001b[0m \u001b[0mresult\u001b[0m\u001b[0;34m)\u001b[0m\u001b[0;34m\u001b[0m\u001b[0;34m\u001b[0m\u001b[0m\n",
      "\u001b[0;32m~/Work/seq2seq/seq2seq/seq2seq_tf.py\u001b[0m in \u001b[0;36mforward\u001b[0;34m(self, inp, targ)\u001b[0m\n\u001b[1;32m     46\u001b[0m         \u001b[0mres\u001b[0m \u001b[0;34m=\u001b[0m \u001b[0;34m[\u001b[0m\u001b[0;34m]\u001b[0m\u001b[0;34m\u001b[0m\u001b[0;34m\u001b[0m\u001b[0m\n\u001b[1;32m     47\u001b[0m         \u001b[0;32mfor\u001b[0m \u001b[0mi\u001b[0m \u001b[0;32min\u001b[0m \u001b[0mrange\u001b[0m\u001b[0;34m(\u001b[0m\u001b[0mself\u001b[0m\u001b[0;34m.\u001b[0m\u001b[0mmax_output_length\u001b[0m\u001b[0;34m)\u001b[0m\u001b[0;34m:\u001b[0m\u001b[0;34m\u001b[0m\u001b[0;34m\u001b[0m\u001b[0m\n\u001b[0;32m---> 48\u001b[0;31m             \u001b[0mh\u001b[0m\u001b[0;34m,\u001b[0m \u001b[0moutp\u001b[0m \u001b[0;34m=\u001b[0m \u001b[0mself\u001b[0m\u001b[0;34m.\u001b[0m\u001b[0mdecoder\u001b[0m\u001b[0;34m(\u001b[0m\u001b[0mdec_inp\u001b[0m\u001b[0;34m,\u001b[0m \u001b[0mh\u001b[0m\u001b[0;34m)\u001b[0m\u001b[0;34m\u001b[0m\u001b[0;34m\u001b[0m\u001b[0m\n\u001b[0m\u001b[1;32m     49\u001b[0m             \u001b[0mres\u001b[0m\u001b[0;34m.\u001b[0m\u001b[0mappend\u001b[0m\u001b[0;34m(\u001b[0m\u001b[0moutp\u001b[0m\u001b[0;34m)\u001b[0m\u001b[0;34m\u001b[0m\u001b[0;34m\u001b[0m\u001b[0m\n\u001b[1;32m     50\u001b[0m             \u001b[0mdec_inp\u001b[0m \u001b[0;34m=\u001b[0m \u001b[0moutp\u001b[0m\u001b[0;34m.\u001b[0m\u001b[0mmax\u001b[0m\u001b[0;34m(\u001b[0m\u001b[0;36m1\u001b[0m\u001b[0;34m)\u001b[0m\u001b[0;34m[\u001b[0m\u001b[0;36m1\u001b[0m\u001b[0;34m]\u001b[0m\u001b[0;34m\u001b[0m\u001b[0;34m\u001b[0m\u001b[0m\n",
      "\u001b[0;32m~/Work/seq2seq/seq2seq/seq2seq_tf.py\u001b[0m in \u001b[0;36mdecoder\u001b[0;34m(self, dec_inp, h)\u001b[0m\n\u001b[1;32m     36\u001b[0m         \u001b[0memb\u001b[0m \u001b[0;34m=\u001b[0m \u001b[0mself\u001b[0m\u001b[0;34m.\u001b[0m\u001b[0memb_dec\u001b[0m\u001b[0;34m(\u001b[0m\u001b[0mdec_inp\u001b[0m\u001b[0;34m)\u001b[0m\u001b[0;34m.\u001b[0m\u001b[0munsqueeze\u001b[0m\u001b[0;34m(\u001b[0m\u001b[0;36m1\u001b[0m\u001b[0;34m)\u001b[0m\u001b[0;34m\u001b[0m\u001b[0;34m\u001b[0m\u001b[0m\n\u001b[1;32m     37\u001b[0m         \u001b[0moutp\u001b[0m\u001b[0;34m,\u001b[0m \u001b[0mh\u001b[0m \u001b[0;34m=\u001b[0m \u001b[0mself\u001b[0m\u001b[0;34m.\u001b[0m\u001b[0mgru_dec\u001b[0m\u001b[0;34m(\u001b[0m\u001b[0memb\u001b[0m\u001b[0;34m,\u001b[0m \u001b[0mh\u001b[0m\u001b[0;34m)\u001b[0m\u001b[0;34m\u001b[0m\u001b[0;34m\u001b[0m\u001b[0m\n\u001b[0;32m---> 38\u001b[0;31m         \u001b[0moutp\u001b[0m \u001b[0;34m=\u001b[0m \u001b[0mself\u001b[0m\u001b[0;34m.\u001b[0m\u001b[0mout\u001b[0m\u001b[0;34m(\u001b[0m\u001b[0mself\u001b[0m\u001b[0;34m.\u001b[0m\u001b[0mout_drop\u001b[0m\u001b[0;34m(\u001b[0m\u001b[0moutp\u001b[0m\u001b[0;34m[\u001b[0m\u001b[0;34m:\u001b[0m\u001b[0;34m,\u001b[0m \u001b[0;36m0\u001b[0m\u001b[0;34m]\u001b[0m\u001b[0;34m)\u001b[0m\u001b[0;34m)\u001b[0m\u001b[0;34m\u001b[0m\u001b[0;34m\u001b[0m\u001b[0m\n\u001b[0m\u001b[1;32m     39\u001b[0m         \u001b[0;32mreturn\u001b[0m \u001b[0mh\u001b[0m\u001b[0;34m,\u001b[0m \u001b[0moutp\u001b[0m\u001b[0;34m\u001b[0m\u001b[0;34m\u001b[0m\u001b[0m\n\u001b[1;32m     40\u001b[0m \u001b[0;34m\u001b[0m\u001b[0m\n",
      "\u001b[0;32m~/Work/seq2seq/seq2seq_venv/lib/python3.7/site-packages/torch/nn/modules/module.py\u001b[0m in \u001b[0;36m__call__\u001b[0;34m(self, *input, **kwargs)\u001b[0m\n\u001b[1;32m    536\u001b[0m                     \u001b[0mresult\u001b[0m \u001b[0;34m=\u001b[0m \u001b[0;34m(\u001b[0m\u001b[0mresult\u001b[0m\u001b[0;34m,\u001b[0m\u001b[0;34m)\u001b[0m\u001b[0;34m\u001b[0m\u001b[0;34m\u001b[0m\u001b[0m\n\u001b[1;32m    537\u001b[0m                 \u001b[0minput\u001b[0m \u001b[0;34m=\u001b[0m \u001b[0mresult\u001b[0m\u001b[0;34m\u001b[0m\u001b[0;34m\u001b[0m\u001b[0m\n\u001b[0;32m--> 538\u001b[0;31m         \u001b[0;32mif\u001b[0m \u001b[0mtorch\u001b[0m\u001b[0;34m.\u001b[0m\u001b[0m_C\u001b[0m\u001b[0;34m.\u001b[0m\u001b[0m_get_tracing_state\u001b[0m\u001b[0;34m(\u001b[0m\u001b[0;34m)\u001b[0m\u001b[0;34m:\u001b[0m\u001b[0;34m\u001b[0m\u001b[0;34m\u001b[0m\u001b[0m\n\u001b[0m\u001b[1;32m    539\u001b[0m             \u001b[0mresult\u001b[0m \u001b[0;34m=\u001b[0m \u001b[0mself\u001b[0m\u001b[0;34m.\u001b[0m\u001b[0m_slow_forward\u001b[0m\u001b[0;34m(\u001b[0m\u001b[0;34m*\u001b[0m\u001b[0minput\u001b[0m\u001b[0;34m,\u001b[0m \u001b[0;34m**\u001b[0m\u001b[0mkwargs\u001b[0m\u001b[0;34m)\u001b[0m\u001b[0;34m\u001b[0m\u001b[0;34m\u001b[0m\u001b[0m\n\u001b[1;32m    540\u001b[0m         \u001b[0;32melse\u001b[0m\u001b[0;34m:\u001b[0m\u001b[0;34m\u001b[0m\u001b[0;34m\u001b[0m\u001b[0m\n",
      "\u001b[0;31mKeyboardInterrupt\u001b[0m: "
     ]
    }
   ],
   "source": [
    "inputs, targets, outputs = get_predictions(learn,ds_type=DatasetType.Train)"
   ]
  },
  {
   "cell_type": "code",
   "execution_count": null,
   "metadata": {},
   "outputs": [],
   "source": [
    "inputs[400],targets[400],outputs[400]"
   ]
  },
  {
   "cell_type": "code",
   "execution_count": 8,
   "metadata": {},
   "outputs": [
    {
     "data": {
      "text/html": [
       "\n",
       "    <div>\n",
       "        <style>\n",
       "            /* Turns off some styling */\n",
       "            progress {\n",
       "                /* gets rid of default border in Firefox and Opera. */\n",
       "                border: none;\n",
       "                /* Needs to be in here for Safari polyfill so background images work as expected. */\n",
       "                background-size: auto;\n",
       "            }\n",
       "            .progress-bar-interrupted, .progress-bar-interrupted::-webkit-progress-bar {\n",
       "                background: #F44336;\n",
       "            }\n",
       "        </style>\n",
       "      <progress value='73' class='' max='73', style='width:300px; height:20px; vertical-align: middle;'></progress>\n",
       "      100.00% [73/73 00:12<00:00]\n",
       "    </div>\n",
       "    "
      ],
      "text/plain": [
       "<IPython.core.display.HTML object>"
      ]
     },
     "metadata": {},
     "output_type": "display_data"
    }
   ],
   "source": [
    "inputs, targets, outputs = get_predictions(learn,ds_type=DatasetType.Valid)"
   ]
  },
  {
   "cell_type": "code",
   "execution_count": 9,
   "metadata": {},
   "outputs": [
    {
     "data": {
      "text/plain": [
       "(Text xxbos xxmaj the xxup xxx , coffee shop , xxmaj chinese , customer rating high , price range £ 20 - 25 , family friendly yes , area city centre , near xxup yyy,\n",
       " Text xxbos xxmaj if you are looking for a coffee shop , try xxmaj the xxup xxx it offers xxmaj chines food and has an average price range with a xxmaj high customer rating . xxmaj it is located near the xxup yyy in the city centre and it is kid friendly,\n",
       " Text xxbos xxmaj the xxup xxx is a coffee shop that serves xxmaj chinese food in the £ 20 - 25 price range . xxmaj it is located in the city centre near xxup yyy . xxmaj it is kid friendly and has)"
      ]
     },
     "execution_count": 9,
     "metadata": {},
     "output_type": "execute_result"
    }
   ],
   "source": [
    "inputs[10],targets[10],outputs[10]"
   ]
  },
  {
   "cell_type": "code",
   "execution_count": 13,
   "metadata": {},
   "outputs": [],
   "source": [
    "rows = []\n",
    "for i in range(len(inputs)):\n",
    "    row = {\"input\":inputs[i],\"output\":outputs[i],\"target\":targets[i]}\n",
    "    rows.append(row)\n",
    "df = pd.DataFrame(rows)\n",
    "df.to_csv(\"gitignore/seq2seq_tf_dev.csv\",index=False,sep=\"\\t\")"
   ]
  },
  {
   "cell_type": "markdown",
   "metadata": {},
   "source": [
    "## Top-p sampling"
   ]
  },
  {
   "cell_type": "code",
   "execution_count": 10,
   "metadata": {},
   "outputs": [
    {
     "data": {
      "text/html": [
       "\n",
       "    <div>\n",
       "        <style>\n",
       "            /* Turns off some styling */\n",
       "            progress {\n",
       "                /* gets rid of default border in Firefox and Opera. */\n",
       "                border: none;\n",
       "                /* Needs to be in here for Safari polyfill so background images work as expected. */\n",
       "                background-size: auto;\n",
       "            }\n",
       "            .progress-bar-interrupted, .progress-bar-interrupted::-webkit-progress-bar {\n",
       "                background: #F44336;\n",
       "            }\n",
       "        </style>\n",
       "      <progress value='73' class='' max='73', style='width:300px; height:20px; vertical-align: middle;'></progress>\n",
       "      100.00% [73/73 00:12<00:00]\n",
       "    </div>\n",
       "    "
      ],
      "text/plain": [
       "<IPython.core.display.HTML object>"
      ]
     },
     "metadata": {},
     "output_type": "display_data"
    }
   ],
   "source": [
    "rxs,rys,rzs,xs,ys,zs = preds_acts(learn)"
   ]
  },
  {
   "cell_type": "code",
   "execution_count": 11,
   "metadata": {},
   "outputs": [
    {
     "data": {
      "text/plain": [
       "(Text xxbos xxmaj the xxup xxx , coffee shop , xxmaj chinese , customer rating 1 out of 5 , price range moderate , family friendly no , area city centre , near xxup yyy,\n",
       " Text xxbos xxmaj the xxup xxx coffee shop offers xxmaj chinese food at moderate price range , has customer rating of 1 out of 5 in city centre , is not kid friendly and is near xxup yyy .,\n",
       " Text xxbos xxmaj the xxup xxx is a coffee shop that serves xxmaj chinese food in the moderate price range . xxmaj it is located in the city centre near xxup yyy . xxmaj it is not kid friendly and has a customer)"
      ]
     },
     "execution_count": 11,
     "metadata": {},
     "output_type": "execute_result"
    }
   ],
   "source": [
    "idx=50\n",
    "rx,ry,rz = rxs[idx],rys[idx],rzs[idx]\n",
    "x,y,z = xs[idx],ys[idx],zs[idx]\n",
    "rx,ry,rz"
   ]
  },
  {
   "cell_type": "code",
   "execution_count": 12,
   "metadata": {},
   "outputs": [
    {
     "data": {
      "text/plain": [
       "Text xxbos xxmaj the xxup xxx is a coffee shop providing xxmaj chinese food in the moderate price range . xxmaj it is located in the city centre . xxmaj it is near xxup yyy . xxmaj its customer rating is 1 out"
      ]
     },
     "execution_count": 12,
     "metadata": {},
     "output_type": "execute_result"
    }
   ],
   "source": [
    "rx,ry,rz = predict_with_decode(learn, x, y)\n",
    "rz"
   ]
  },
  {
   "cell_type": "code",
   "execution_count": 19,
   "metadata": {},
   "outputs": [],
   "source": [
    "rows = []\n",
    "for idx in range(len(rxs)):\n",
    "    rx,ry,rz = rxs[idx],rys[idx],rzs[idx]\n",
    "    x,y,z = xs[idx],ys[idx],zs[idx]\n",
    "    px,py,pz = predict_with_decode(learn, x, y)\n",
    "    row = {\"input\":rx,\"target\":ry,\"output\":pz}\n",
    "    rows.append(row)"
   ]
  },
  {
   "cell_type": "code",
   "execution_count": 20,
   "metadata": {},
   "outputs": [],
   "source": [
    "df = pd.DataFrame(rows)\n",
    "df.to_csv(\"gitignore/top_p.csv\",sep=\"\\t\",index=False)"
   ]
  },
  {
   "cell_type": "code",
   "execution_count": 22,
   "metadata": {},
   "outputs": [
    {
     "data": {
      "text/html": [
       "<div>\n",
       "<style scoped>\n",
       "    .dataframe tbody tr th:only-of-type {\n",
       "        vertical-align: middle;\n",
       "    }\n",
       "\n",
       "    .dataframe tbody tr th {\n",
       "        vertical-align: top;\n",
       "    }\n",
       "\n",
       "    .dataframe thead th {\n",
       "        text-align: right;\n",
       "    }\n",
       "</style>\n",
       "<table border=\"1\" class=\"dataframe\">\n",
       "  <thead>\n",
       "    <tr style=\"text-align: right;\">\n",
       "      <th></th>\n",
       "      <th>input</th>\n",
       "      <th>target</th>\n",
       "      <th>output</th>\n",
       "    </tr>\n",
       "  </thead>\n",
       "  <tbody>\n",
       "    <tr>\n",
       "      <th>4121</th>\n",
       "      <td>xxbos xxmaj the xxup xxx , customer rating low , family friendly yes , area riverside</td>\n",
       "      <td>xxbos xxmaj the low customer rated venue , xxmaj the xxup xxx , is a family - friendly venue in riverside .</td>\n",
       "      <td>xxbos xxmaj the xxup xxx is a family friendly restaurant located on the riverside . xxmaj it has a low customer rating .</td>\n",
       "    </tr>\n",
       "    <tr>\n",
       "      <th>2363</th>\n",
       "      <td>xxbos xxup xxx , coffee shop , xxmaj english , customer rating 5 out of 5 , price range cheap , family friendly yes</td>\n",
       "      <td>xxbos xxup xxx is a coffee shop on a xxunk offering breakfast foods .</td>\n",
       "      <td>xxbos xxup xxx is a family friendly coffee shop with a cheap price range and a customer rating of 5 out of 5 .</td>\n",
       "    </tr>\n",
       "    <tr>\n",
       "      <th>3278</th>\n",
       "      <td>xxbos xxup xxx , coffee shop , xxmaj english , customer rating average , price range high , family friendly yes</td>\n",
       "      <td>xxbos xxmaj the xxup xxx coffee shop is high priced and rated three stars . xxmaj it also serves food for the entire family .</td>\n",
       "      <td>xxbos xxup xxx is a coffee shop providing xxmaj xxmaj italian food in the high price range . xxmaj it is children friendly and has a customer rating of 3 out of 5 .</td>\n",
       "    </tr>\n",
       "    <tr>\n",
       "      <th>1011</th>\n",
       "      <td>xxbos xxup xxx , coffee shop , xxmaj chinese , customer rating 3 out of 5 , price range moderate , family friendly yes , area city centre</td>\n",
       "      <td>xxbos xxup xxx is a coffee shop providing xxmaj chinese food in the moderate price range . xxmaj it is located in the city centre . xxmaj its customer rating is 3 out of 5 .</td>\n",
       "      <td>xxbos xxup xxx is a coffee shop providing xxmaj chinese food in the moderate price range . xxmaj it is located in the city centre . xxmaj its customer rating is 3 out of 5 .</td>\n",
       "    </tr>\n",
       "    <tr>\n",
       "      <th>3148</th>\n",
       "      <td>xxbos xxmaj the xxup xxx , coffee shop , xxmaj english , customer rating average , price range cheap , area riverside</td>\n",
       "      <td>xxbos xxmaj the xxup xxx is a coffee shop that is along the river in the xxmaj city centre .</td>\n",
       "      <td>xxbos xxmaj the xxup xxx is a coffee shop with xxmaj english food in the riverside area with an average customer rating and cheap price range .</td>\n",
       "    </tr>\n",
       "  </tbody>\n",
       "</table>\n",
       "</div>"
      ],
      "text/plain": [
       "                                                                                                                                          input  \\\n",
       "4121                                                      xxbos xxmaj the xxup xxx , customer rating low , family friendly yes , area riverside   \n",
       "2363                        xxbos xxup xxx , coffee shop , xxmaj english , customer rating 5 out of 5 , price range cheap , family friendly yes   \n",
       "3278                            xxbos xxup xxx , coffee shop , xxmaj english , customer rating average , price range high , family friendly yes   \n",
       "1011  xxbos xxup xxx , coffee shop , xxmaj chinese , customer rating 3 out of 5 , price range moderate , family friendly yes , area city centre   \n",
       "3148                      xxbos xxmaj the xxup xxx , coffee shop , xxmaj english , customer rating average , price range cheap , area riverside   \n",
       "\n",
       "                                                                                                                                                                             target  \\\n",
       "4121                                                                    xxbos xxmaj the low customer rated venue , xxmaj the xxup xxx , is a family - friendly venue in riverside .   \n",
       "2363                                                                                                          xxbos xxup xxx is a coffee shop on a xxunk offering breakfast foods .   \n",
       "3278                                                  xxbos xxmaj the xxup xxx coffee shop is high priced and rated three stars . xxmaj it also serves food for the entire family .   \n",
       "1011  xxbos xxup xxx is a coffee shop providing xxmaj chinese food in the moderate price range . xxmaj it is located in the city centre . xxmaj its customer rating is 3 out of 5 .   \n",
       "3148                                                                                   xxbos xxmaj the xxup xxx is a coffee shop that is along the river in the xxmaj city centre .   \n",
       "\n",
       "                                                                                                                                                                             output  \n",
       "4121                                                       xxbos xxmaj the xxup xxx is a family friendly restaurant located on the riverside . xxmaj it has a low customer rating .  \n",
       "2363                                                                 xxbos xxup xxx is a family friendly coffee shop with a cheap price range and a customer rating of 5 out of 5 .  \n",
       "3278           xxbos xxup xxx is a coffee shop providing xxmaj xxmaj italian food in the high price range . xxmaj it is children friendly and has a customer rating of 3 out of 5 .  \n",
       "1011  xxbos xxup xxx is a coffee shop providing xxmaj chinese food in the moderate price range . xxmaj it is located in the city centre . xxmaj its customer rating is 3 out of 5 .  \n",
       "3148                                xxbos xxmaj the xxup xxx is a coffee shop with xxmaj english food in the riverside area with an average customer rating and cheap price range .  "
      ]
     },
     "execution_count": 22,
     "metadata": {},
     "output_type": "execute_result"
    }
   ],
   "source": [
    "df.sample(5)"
   ]
  },
  {
   "cell_type": "markdown",
   "metadata": {},
   "source": [
    "## Prepare for evaluation against e2e NLG baseline"
   ]
  },
  {
   "cell_type": "code",
   "execution_count": 1,
   "metadata": {},
   "outputs": [],
   "source": [
    "import pandas as pd\n",
    "pd.set_option('display.max_colwidth', 1000)"
   ]
  },
  {
   "cell_type": "code",
   "execution_count": 2,
   "metadata": {},
   "outputs": [
    {
     "data": {
      "text/html": [
       "<div>\n",
       "<style scoped>\n",
       "    .dataframe tbody tr th:only-of-type {\n",
       "        vertical-align: middle;\n",
       "    }\n",
       "\n",
       "    .dataframe tbody tr th {\n",
       "        vertical-align: top;\n",
       "    }\n",
       "\n",
       "    .dataframe thead th {\n",
       "        text-align: right;\n",
       "    }\n",
       "</style>\n",
       "<table border=\"1\" class=\"dataframe\">\n",
       "  <thead>\n",
       "    <tr style=\"text-align: right;\">\n",
       "      <th></th>\n",
       "      <th>input</th>\n",
       "      <th>output</th>\n",
       "      <th>target</th>\n",
       "    </tr>\n",
       "  </thead>\n",
       "  <tbody>\n",
       "    <tr>\n",
       "      <th>1495</th>\n",
       "      <td>xxbos xxmaj the xxup xxx , coffee shop , xxmaj english , customer rating average , price range high , family friendly yes , near xxup yyy</td>\n",
       "      <td>xxbos xxmaj the xxup xxx is a high priced coffee shop that serves xxmaj english food . xxmaj it is located near xxup yyy . xxmaj it is family friendly and has an average customer rating .</td>\n",
       "      <td>xxbos xxmaj the xxup xxx coffee shop that is family friendly and has good reviews located conveniently next to xxup yyy .</td>\n",
       "    </tr>\n",
       "    <tr>\n",
       "      <th>1800</th>\n",
       "      <td>xxbos xxmaj the xxup xxx , coffee shop , xxmaj chinese , price range high , family friendly no , area riverside , near xxup yyy</td>\n",
       "      <td>xxbos xxmaj the xxup xxx is a coffee shop that serves xxmaj chinese food in the high price range . xxmaj it is located in the riverside area near xxup yyy . xxmaj it is not children friendly .</td>\n",
       "      <td>xxbos xxmaj there is a coffee shop xxmaj the xxup xxx located riverside near xxup yyy . xxmaj they are not children friendly .</td>\n",
       "    </tr>\n",
       "    <tr>\n",
       "      <th>3144</th>\n",
       "      <td>xxbos xxmaj the xxup xxx , coffee shop , xxmaj english , customer rating average , price range cheap , area riverside</td>\n",
       "      <td>xxbos xxmaj the xxup xxx is a cheap coffee shop located in the riverside area . xxmaj it has a customer rating of average and serves xxmaj italian food .</td>\n",
       "      <td>xxbos xxmaj in the riverside area , is an inexpensive xxmaj english food coffee shop called xxmaj the xxup xxx . xxmaj it have an average rating by customers .</td>\n",
       "    </tr>\n",
       "    <tr>\n",
       "      <th>3247</th>\n",
       "      <td>xxbos xxup xxx , coffee shop , xxmaj chinese , customer rating average , price range high , family friendly yes</td>\n",
       "      <td>xxbos xxup xxx is a coffee shop that serves xxmaj chinese food . xxmaj it is children friendly and has a high price range and an average customer rating .</td>\n",
       "      <td>xxbos xxup xxx is a children friendly coffee shop which serves a selection of xxmaj chinese food at a high price range . xxup xxx has received a customer rating of average</td>\n",
       "    </tr>\n",
       "    <tr>\n",
       "      <th>2757</th>\n",
       "      <td>xxbos xxup xxx , coffee shop , xxmaj chinese , customer rating 1 out of 5 , family friendly yes , area riverside</td>\n",
       "      <td>xxbos xxup xxx is a coffee shop that serves xxmaj chinese food . xxmaj it is located in the riverside area and has a customer rating of 1 out of 5 . xxmaj it is kid friendly .</td>\n",
       "      <td>xxbos xxup xxx coffee shop serves xxmaj chinese food in the riverside area and is kids friendly but has a customer rating of 1 out of 5</td>\n",
       "    </tr>\n",
       "  </tbody>\n",
       "</table>\n",
       "</div>"
      ],
      "text/plain": [
       "                                                                                                                                          input  \\\n",
       "1495  xxbos xxmaj the xxup xxx , coffee shop , xxmaj english , customer rating average , price range high , family friendly yes , near xxup yyy   \n",
       "1800            xxbos xxmaj the xxup xxx , coffee shop , xxmaj chinese , price range high , family friendly no , area riverside , near xxup yyy   \n",
       "3144                      xxbos xxmaj the xxup xxx , coffee shop , xxmaj english , customer rating average , price range cheap , area riverside   \n",
       "3247                            xxbos xxup xxx , coffee shop , xxmaj chinese , customer rating average , price range high , family friendly yes   \n",
       "2757                           xxbos xxup xxx , coffee shop , xxmaj chinese , customer rating 1 out of 5 , family friendly yes , area riverside   \n",
       "\n",
       "                                                                                                                                                                                                output  \\\n",
       "1495       xxbos xxmaj the xxup xxx is a high priced coffee shop that serves xxmaj english food . xxmaj it is located near xxup yyy . xxmaj it is family friendly and has an average customer rating .   \n",
       "1800  xxbos xxmaj the xxup xxx is a coffee shop that serves xxmaj chinese food in the high price range . xxmaj it is located in the riverside area near xxup yyy . xxmaj it is not children friendly .   \n",
       "3144                                         xxbos xxmaj the xxup xxx is a cheap coffee shop located in the riverside area . xxmaj it has a customer rating of average and serves xxmaj italian food .   \n",
       "3247                                        xxbos xxup xxx is a coffee shop that serves xxmaj chinese food . xxmaj it is children friendly and has a high price range and an average customer rating .   \n",
       "2757                   xxbos xxup xxx is a coffee shop that serves xxmaj chinese food . xxmaj it is located in the riverside area and has a customer rating of 1 out of 5 . xxmaj it is kid friendly .   \n",
       "\n",
       "                                                                                                                                                                           target  \n",
       "1495                                                    xxbos xxmaj the xxup xxx coffee shop that is family friendly and has good reviews located conveniently next to xxup yyy .  \n",
       "1800                                               xxbos xxmaj there is a coffee shop xxmaj the xxup xxx located riverside near xxup yyy . xxmaj they are not children friendly .  \n",
       "3144              xxbos xxmaj in the riverside area , is an inexpensive xxmaj english food coffee shop called xxmaj the xxup xxx . xxmaj it have an average rating by customers .  \n",
       "3247  xxbos xxup xxx is a children friendly coffee shop which serves a selection of xxmaj chinese food at a high price range . xxup xxx has received a customer rating of average  \n",
       "2757                                      xxbos xxup xxx coffee shop serves xxmaj chinese food in the riverside area and is kids friendly but has a customer rating of 1 out of 5  "
      ]
     },
     "execution_count": 2,
     "metadata": {},
     "output_type": "execute_result"
    }
   ],
   "source": [
    "df = pd.read_csv(\"../gitignore/seq2seq_tf_dev.csv\",sep=\"\\t\")\n",
    "#df = pd.read_csv(\"gitignore/top_p.csv\",sep=\"\\t\")\n",
    "df.sample(5)"
   ]
  },
  {
   "cell_type": "code",
   "execution_count": 3,
   "metadata": {},
   "outputs": [
    {
     "name": "stdout",
     "output_type": "stream",
     "text": [
      "Working directory before change: /Users/nadjet/Work/seq2seq/notebooks\n",
      "Working directory after change: /Users/nadjet/Work/seq2seq\n"
     ]
    }
   ],
   "source": [
    "import os\n",
    "from pathlib import Path\n",
    "cwd = os.getcwd()\n",
    "print(\"Working directory before change:\",cwd)\n",
    "path = Path(cwd)\n",
    "path = path.parent\n",
    "os.chdir(path)\n",
    "print(\"Working directory after change:\", os.getcwd())"
   ]
  },
  {
   "cell_type": "code",
   "execution_count": 4,
   "metadata": {},
   "outputs": [],
   "source": [
    "from e2e_nlg.evaluation.pipeline import DataFormattingPipeline"
   ]
  },
  {
   "cell_type": "code",
   "execution_count": 5,
   "metadata": {},
   "outputs": [
    {
     "name": "stdout",
     "output_type": "stream",
     "text": [
      "2019-11-20 10:48:02,302 - root - INFO - Formatting the MRs in the output...\n",
      "2019-11-20 10:48:03,409 - root - INFO - ...Formatting the MRs in the output done! Written to: gitignore/formatted_output.csv\n",
      "2019-11-20 10:48:03,410 - root - INFO - Relexicalizing output MRs and texts...\n",
      "2019-11-20 10:48:24,606 - root - INFO - Wrote relexicalized data to gitignore/lexicalized_output.csv\n",
      "2019-11-20 10:48:24,607 - root - INFO - ...Relexicalizing output MRs and texts done! Written to: gitignore/lexicalized_output.csv\n",
      "2019-11-20 10:48:24,608 - root - INFO - Splitting reference into MRs and output files...\n",
      "2019-11-20 10:48:25,287 - root - INFO - Saved grouped references to gitignore/ref_e2e_nlg.txt\n",
      "2019-11-20 10:48:25,291 - root - INFO - Saved grouped references to gitignore/mr_e2e_nlg.txt\n",
      "2019-11-20 10:48:25,292 - root - INFO - ...Splitting reference into MRs and output files done!\n",
      "2019-11-20 10:48:25,293 - root - INFO - Writing output in same order as MRs...\n",
      "2019-11-20 10:48:28,919 - root - INFO - Predictions written to gitignore/pred_e2e_nlg.txt\n",
      "2019-11-20 10:48:28,921 - root - INFO - ...Writing output in same order as MRs done!\n",
      "2019-11-20 10:48:28,921 - root - INFO - References file=gitignore/ref_e2e_nlg.txt\n",
      "2019-11-20 10:48:28,922 - root - INFO - Outputs file=gitignore/pred_e2e_nlg.txt\n"
     ]
    }
   ],
   "source": [
    "pipeline = DataFormattingPipeline(output_file=\"gitignore/seq2seq_tf_dev.csv\",ref_file=\"gitignore/devset.csv\",output_folder=\"gitignore\")\n",
    "#pipeline = DataFormattingPipeline(output_file=\"seq2seq/gitignore/top_p.csv\",ref_file=\"seq2seq/gitignore/devset.csv\",output_folder=\"seq2seq/gitignore/tf_top_p\")\n",
    "\n",
    "pipeline.prepare_data()"
   ]
  },
  {
   "cell_type": "markdown",
   "metadata": {},
   "source": [
    "Prepare data for baseline:"
   ]
  },
  {
   "cell_type": "code",
   "execution_count": 4,
   "metadata": {},
   "outputs": [
    {
     "name": "stdout",
     "output_type": "stream",
     "text": [
      "2019-11-19 16:11:47,612 - root - INFO - Predictions written to gitignore/baseline/pred_e2e_nlg.txt\n"
     ]
    }
   ],
   "source": [
    "from e2e_nlg.evaluation.out_formatter import OutputFormatter\n",
    "out_formatter = OutputFormatter(\"gitignore/baseline/dev_mrs.txt\", \"gitignore/baseline/baseline-devel-output.csv\", \"gitignore/baseline\")\n",
    "preds_file = out_formatter.write_predictions()"
   ]
  },
  {
   "cell_type": "code",
   "execution_count": null,
   "metadata": {},
   "outputs": [],
   "source": []
  }
 ],
 "metadata": {
  "kernelspec": {
   "display_name": "seq2seq_env",
   "language": "python",
   "name": "seq2seq_env"
  },
  "language_info": {
   "codemirror_mode": {
    "name": "ipython",
    "version": 3
   },
   "file_extension": ".py",
   "mimetype": "text/x-python",
   "name": "python",
   "nbconvert_exporter": "python",
   "pygments_lexer": "ipython3",
   "version": "3.7.4"
  }
 },
 "nbformat": 4,
 "nbformat_minor": 2
}
