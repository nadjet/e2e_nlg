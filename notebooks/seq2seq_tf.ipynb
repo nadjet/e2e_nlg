{
 "cells": [
  {
   "cell_type": "code",
   "execution_count": 1,
   "metadata": {},
   "outputs": [
    {
     "name": "stdout",
     "output_type": "stream",
     "text": [
      "2019-11-17 16:40:32,593 - root - INFO - Maximum size for inputs and outputs is: 42\n",
      "\n",
      "2019-11-17 16:40:34,525 - root - INFO - Size of input vocabulary=56\n",
      "2019-11-17 16:40:34,526 - root - INFO - Size of output vocabulary=1232\n",
      "2019-11-17 16:40:34,526 - root - INFO - Seq2SeqDataBunch;\n",
      "\n",
      "Train: LabelList (40689 items)\n",
      "x: Seq2SeqTextList\n",
      "xxbos xxmaj the xxup xxx , pub , customer rating 5 out of 5 , price range more than £ 30 , near xxup yyy,xxbos xxmaj the xxup xxx , pub , xxmaj english , price range cheap , near xxup yyy,xxbos xxmaj the xxup xxx , coffee shop , xxmaj japanese , customer rating low , price range less than £ 20 , family friendly yes , area riverside , near xxup yyy,xxbos xxmaj the xxup xxx , coffee shop , xxmaj french , price range £ 20 - 25 , area riverside , near the xxup yyy,xxbos xxup xxx , xxmaj french , customer rating high , area riverside , near the xxup yyy\n",
      "y: TextList\n",
      "xxbos xxmaj the xxup xxx pub near xxup yyy has a 5 star rating . xxmaj prices start at £ 30 .,xxbos xxmaj close to xxup yyy , xxmaj the xxup xxx pub serves delicious xxmaj xxunk xxmaj xxunk for the cheap price of £ 10 . 50 . xxmaj delicious xxmaj pub food .,xxbos xxmaj the xxup xxx is a low rated coffee shop near xxup yyy and the riverside that is family friendly and is less than £ 20 for xxmaj japanese food .,xxbos xxmaj located near xxmaj the xxup yyy is a xxmaj french xxmaj theme eatery and coffee shop called xxmaj the xxup xxx , with a price range at £ 20 - £ 25 it is in the riverside area .,xxbos xxmaj for luxurious xxmaj french food , the xxup xxx is located by the river next to xxmaj the xxup yyy .\n",
      "Path: .;\n",
      "\n",
      "Valid: LabelList (4378 items)\n",
      "x: Seq2SeqTextList\n",
      "xxbos xxup xxx , family friendly no , area city centre,xxbos xxup xxx , family friendly no , area city centre,xxbos xxup xxx , family friendly no , area city centre,xxbos xxup xxx , family friendly no , area city centre,xxbos xxup xxx , family friendly no , area city centre\n",
      "y: TextList\n",
      "xxbos xxmaj there is a place in the city centre , xxup xxx , that is not family - friendly .,xxbos xxmaj in the city centre there is a venue name xxup xxx , this is not a family - friendly venue .,xxbos xxup xxx is not a family - friendly place , located in city centre .,xxbos xxup xxx is not a family - friendly xxunk and is located in the city centre .,xxbos xxup xxx is not a family - friendly place in the city centre .\n",
      "Path: .;\n",
      "\n",
      "Test: None\n"
     ]
    },
    {
     "name": "stderr",
     "output_type": "stream",
     "text": [
      "\n"
     ]
    },
    {
     "name": "stdout",
     "output_type": "stream",
     "text": [
      "xxunk\n",
      "xxpad\n",
      "xxbos\n",
      "xxeos\n",
      "xxfld\n",
      "xxmaj\n",
      "xxup\n",
      "xxrep\n",
      "xxwrep\n",
      "xxunk\n",
      "xxpad\n",
      "xxbos\n",
      "xxeos\n",
      "xxfld\n",
      "xxmaj\n",
      "xxup\n",
      "xxrep\n",
      "xxwrep\n",
      "n't\n",
      "xxxs\n",
      "clentele\n",
      "d'oeuvres\n",
      "-stars\n",
      "d'oeuvre\n",
      "-priced\n",
      "yyyn\n",
      "caféteria\n",
      "2019-11-17 16:42:17,775 - root - INFO - Encoder embeddings saved to: ./enc_emb.pth\n",
      "2019-11-17 16:42:17,778 - root - INFO - Encoder embeddings saved to: ./dec_emb.pth\n"
     ]
    },
    {
     "name": "stderr",
     "output_type": "stream",
     "text": [
      "/Users/nadjet/Work/seq2seq/seq2seq_venv/lib/python3.7/site-packages/torch/serialization.py:292: UserWarning: Couldn't retrieve source code for container of type Embedding. It won't be checked for correctness upon loading.\n",
      "  \"type \" + obj.__name__ + \". It won't be checked \"\n"
     ]
    }
   ],
   "source": [
    "# requires installing nbformat\n",
    "\n",
    "%run init.ipynb"
   ]
  },
  {
   "cell_type": "code",
   "execution_count": 2,
   "metadata": {},
   "outputs": [],
   "source": [
    "from seq2seq.seq2seq_tf import Seq2SeqRNN_tf\n",
    "from fastai.text import Learner, partial\n",
    "from utils.loss import Loss\n",
    "from utils.bleu import CorpusBLEU\n",
    "from utils.teacher_forcing import TeacherForcing\n",
    "from utils.metrics import Metrics\n",
    "from utils.predict import *\n",
    "import random"
   ]
  },
  {
   "cell_type": "code",
   "execution_count": 3,
   "metadata": {},
   "outputs": [
    {
     "data": {
      "text/plain": [
       "42"
      ]
     },
     "execution_count": 3,
     "metadata": {},
     "output_type": "execute_result"
    }
   ],
   "source": [
    "dl.max_size"
   ]
  },
  {
   "cell_type": "code",
   "execution_count": 4,
   "metadata": {},
   "outputs": [],
   "source": [
    "HIDDEN_LAYER_SIZE = 64\n",
    "MAX_SIZE = dl.max_size\n",
    "emb_enc = embs.emb_enc\n",
    "emb_dec = embs.emb_dec\n",
    "data = dl.data\n",
    "seq2seq_loss = Loss.seq2seq_loss\n",
    "seq2seq_acc = Metrics.seq2seq_acc"
   ]
  },
  {
   "cell_type": "code",
   "execution_count": 5,
   "metadata": {},
   "outputs": [],
   "source": [
    "rnn_tf = Seq2SeqRNN_tf(emb_enc, emb_dec, HIDDEN_LAYER_SIZE, MAX_SIZE)\n",
    "\n",
    "learn = Learner(data, rnn_tf, loss_func=seq2seq_loss, metrics=[seq2seq_acc, CorpusBLEU(len(data.y.vocab.itos))],\n",
    "               callback_fns=partial(TeacherForcing, end_epoch=10))"
   ]
  },
  {
   "cell_type": "markdown",
   "metadata": {},
   "source": [
    "## Training model"
   ]
  },
  {
   "cell_type": "code",
   "execution_count": null,
   "metadata": {},
   "outputs": [],
   "source": [
    "learn.lr_find()"
   ]
  },
  {
   "cell_type": "code",
   "execution_count": 7,
   "metadata": {},
   "outputs": [
    {
     "name": "stdout",
     "output_type": "stream",
     "text": [
      "Min numerical gradient: 4.71E-03\n",
      "Min loss divided by 10: 7.79E-04\n"
     ]
    },
    {
     "data": {
      "image/png": "[encoded data removed]",
      "text/plain": [
       "<Figure size 432x288 with 1 Axes>"
      ]
     },
     "metadata": {
      "needs_background": "light"
     },
     "output_type": "display_data"
    }
   ],
   "source": [
    "learn.recorder.plot(suggestion=True,skip_end=10)"
   ]
  },
  {
   "cell_type": "code",
   "execution_count": 8,
   "metadata": {},
   "outputs": [
    {
     "data": {
      "text/html": [
       "<table border=\"1\" class=\"dataframe\">\n",
       "  <thead>\n",
       "    <tr style=\"text-align: left;\">\n",
       "      <th>epoch</th>\n",
       "      <th>train_loss</th>\n",
       "      <th>valid_loss</th>\n",
       "      <th>seq2seq_acc</th>\n",
       "      <th>bleu</th>\n",
       "      <th>time</th>\n",
       "    </tr>\n",
       "  </thead>\n",
       "  <tbody>\n",
       "    <tr>\n",
       "      <td>0</td>\n",
       "      <td>1.000198</td>\n",
       "      <td>6.567329</td>\n",
       "      <td>0.238728</td>\n",
       "      <td>0.322356</td>\n",
       "      <td>06:32</td>\n",
       "    </tr>\n",
       "    <tr>\n",
       "      <td>1</td>\n",
       "      <td>0.948405</td>\n",
       "      <td>5.969526</td>\n",
       "      <td>0.241983</td>\n",
       "      <td>0.377582</td>\n",
       "      <td>07:04</td>\n",
       "    </tr>\n",
       "    <tr>\n",
       "      <td>2</td>\n",
       "      <td>0.930557</td>\n",
       "      <td>5.487360</td>\n",
       "      <td>0.237224</td>\n",
       "      <td>0.386141</td>\n",
       "      <td>07:18</td>\n",
       "    </tr>\n",
       "  </tbody>\n",
       "</table>"
      ],
      "text/plain": [
       "<IPython.core.display.HTML object>"
      ]
     },
     "metadata": {},
     "output_type": "display_data"
    }
   ],
   "source": [
    "learn.fit_one_cycle(3, 7.79E-03)"
   ]
  },
  {
   "cell_type": "code",
   "execution_count": 9,
   "metadata": {},
   "outputs": [
    {
     "data": {
      "image/png": "[encoded data removed]",
      "text/plain": [
       "<Figure size 432x288 with 1 Axes>"
      ]
     },
     "metadata": {
      "needs_background": "light"
     },
     "output_type": "display_data"
    }
   ],
   "source": [
    "learn.recorder.plot_losses()"
   ]
  },
  {
   "cell_type": "code",
   "execution_count": 12,
   "metadata": {},
   "outputs": [
    {
     "data": {
      "text/html": [
       "\n",
       "    <div>\n",
       "        <style>\n",
       "            /* Turns off some styling */\n",
       "            progress {\n",
       "                /* gets rid of default border in Firefox and Opera. */\n",
       "                border: none;\n",
       "                /* Needs to be in here for Safari polyfill so background images work as expected. */\n",
       "                background-size: auto;\n",
       "            }\n",
       "            .progress-bar-interrupted, .progress-bar-interrupted::-webkit-progress-bar {\n",
       "                background: #F44336;\n",
       "            }\n",
       "        </style>\n",
       "      <progress value='69' class='' max='69', style='width:300px; height:20px; vertical-align: middle;'></progress>\n",
       "      100.00% [69/69 00:11<00:00]\n",
       "    </div>\n",
       "    "
      ],
      "text/plain": [
       "<IPython.core.display.HTML object>"
      ]
     },
     "metadata": {},
     "output_type": "display_data"
    }
   ],
   "source": [
    "inputs, targets, outputs = get_predictions(learn)"
   ]
  },
  {
   "cell_type": "code",
   "execution_count": null,
   "metadata": {},
   "outputs": [],
   "source": [
    "inputs[700], targets[700], outputs[700]"
   ]
  },
  {
   "cell_type": "code",
   "execution_count": 14,
   "metadata": {},
   "outputs": [
    {
     "data": {
      "text/plain": [
       "(Text xxbos xxup xxx , coffee shop , xxmaj english , customer rating 3 out of 5 , family friendly yes , area riverside,\n",
       " Text xxbos xxmaj there is a friendly for kids coffee shop called xxup xxx that provides xxmaj english food in the riverside area . xxmaj the customer rating is 3 out of 5 .,\n",
       " Text xxbos xxup xxx is a kid friendly coffee shop that serves xxmaj english food . xxmaj it is located in the riverside area and has a customer rating of 3 out of 5 .)"
      ]
     },
     "execution_count": 14,
     "metadata": {},
     "output_type": "execute_result"
    }
   ],
   "source": [
    "inputs[2513], targets[2513], outputs[2513]"
   ]
  },
  {
   "cell_type": "code",
   "execution_count": 15,
   "metadata": {},
   "outputs": [
    {
     "data": {
      "text/plain": [
       "(Text xxbos xxmaj the xxup xxx , customer rating 3 out of 5 , area riverside,\n",
       " Text xxbos xxmaj the xxup xxx along the riverside is rated 3 out of 5 .,\n",
       " Text xxbos xxmaj the xxup xxx is a riverside restaurant with a customer rating of 3 out of 5 .)"
      ]
     },
     "execution_count": 15,
     "metadata": {},
     "output_type": "execute_result"
    }
   ],
   "source": [
    "inputs[4000], targets[4000], outputs[4000]"
   ]
  },
  {
   "cell_type": "code",
   "execution_count": 16,
   "metadata": {},
   "outputs": [],
   "source": [
    "learn.save('model_tf')"
   ]
  },
  {
   "cell_type": "markdown",
   "metadata": {},
   "source": [
    "## Get predictions from dataframe"
   ]
  },
  {
   "cell_type": "code",
   "execution_count": 3,
   "metadata": {},
   "outputs": [
    {
     "name": "stdout",
     "output_type": "stream",
     "text": [
      "2019-11-17 16:42:55,237 - root - INFO - Size of input vocabulary=56\n",
      "2019-11-17 16:42:55,243 - root - INFO - Size of output vocabulary=1232\n",
      "2019-11-17 16:42:55,246 - root - INFO - Seq2SeqDataBunch;\n",
      "\n",
      "Train: LabelList (42061 items)\n",
      "x: Seq2SeqTextList\n",
      "xxbos xxmaj the xxup xxx , pub , customer rating 5 out of 5 , price range more than £ 30 , near xxup yyy,xxbos xxmaj the xxup xxx , pub , xxmaj english , price range cheap , near xxup yyy,xxbos xxmaj the xxup xxx , coffee shop , xxmaj japanese , customer rating low , price range less than £ 20 , family friendly yes , area riverside , near xxup yyy,xxbos xxmaj the xxup xxx , coffee shop , xxmaj french , price range £ 20 - 25 , area riverside , near the xxup yyy,xxbos xxup xxx , xxmaj french , customer rating high , area riverside , near the xxup yyy\n",
      "y: TextList\n",
      "xxbos xxmaj the xxup xxx pub near xxup yyy has a 5 star rating . xxmaj prices start at £ 30 .,xxbos xxmaj close to xxup yyy , xxmaj the xxup xxx pub serves delicious xxmaj xxunk xxmaj xxunk for the cheap price of £ 10 . 50 . xxmaj delicious xxmaj pub food .,xxbos xxmaj the xxup xxx is a low rated coffee shop near xxup yyy and the riverside that is family friendly and is less than £ 20 for xxmaj japanese food .,xxbos xxmaj located near xxmaj the xxup yyy is a xxmaj french xxmaj theme eatery and coffee shop called xxmaj the xxup xxx , with a price range at £ 20 - £ 25 it is in the riverside area .,xxbos xxmaj for luxurious xxmaj french food , the xxup xxx is located by the river next to xxmaj the xxup yyy .\n",
      "Path: .;\n",
      "\n",
      "Valid: LabelList (0 items)\n",
      "x: Seq2SeqTextList\n",
      "\n",
      "y: TextList\n",
      "\n",
      "Path: .;\n",
      "\n",
      "Test: None\n"
     ]
    }
   ],
   "source": [
    "dl0 = E2ENLGDataLoader(dataset_path,\"trainset.csv\",None,percentile=100)\n",
    "dl0.setDataAndMaxSize()"
   ]
  },
  {
   "cell_type": "code",
   "execution_count": 4,
   "metadata": {},
   "outputs": [
    {
     "data": {
      "text/plain": [
       "42"
      ]
     },
     "execution_count": 4,
     "metadata": {},
     "output_type": "execute_result"
    }
   ],
   "source": [
    "dl.max_size"
   ]
  },
  {
   "cell_type": "code",
   "execution_count": 5,
   "metadata": {},
   "outputs": [],
   "source": [
    "HIDDEN_LAYER_SIZE = 64\n",
    "MAX_SIZE = dl.max_size\n",
    "emb_enc = embs.emb_enc\n",
    "emb_dec = embs.emb_dec\n",
    "data = dl0.data\n",
    "seq2seq_loss = Loss.seq2seq_loss\n",
    "seq2seq_acc = Metrics.seq2seq_acc\n",
    "\n",
    "rnn_tf = Seq2SeqRNN_tf(emb_enc, emb_dec, HIDDEN_LAYER_SIZE, MAX_SIZE)\n",
    "\n",
    "learn = Learner(data, rnn_tf, loss_func=seq2seq_loss, metrics=[seq2seq_acc, CorpusBLEU(len(data.y.vocab.itos))],\n",
    "               callback_fns=partial(TeacherForcing, end_epoch=10))"
   ]
  },
  {
   "cell_type": "code",
   "execution_count": 6,
   "metadata": {},
   "outputs": [
    {
     "data": {
      "text/plain": [
       "Learner(data=Seq2SeqDataBunch;\n",
       "\n",
       "Train: LabelList (42061 items)\n",
       "x: Seq2SeqTextList\n",
       "xxbos xxmaj the xxup xxx , pub , customer rating 5 out of 5 , price range more than £ 30 , near xxup yyy,xxbos xxmaj the xxup xxx , pub , xxmaj english , price range cheap , near xxup yyy,xxbos xxmaj the xxup xxx , coffee shop , xxmaj japanese , customer rating low , price range less than £ 20 , family friendly yes , area riverside , near xxup yyy,xxbos xxmaj the xxup xxx , coffee shop , xxmaj french , price range £ 20 - 25 , area riverside , near the xxup yyy,xxbos xxup xxx , xxmaj french , customer rating high , area riverside , near the xxup yyy\n",
       "y: TextList\n",
       "xxbos xxmaj the xxup xxx pub near xxup yyy has a 5 star rating . xxmaj prices start at £ 30 .,xxbos xxmaj close to xxup yyy , xxmaj the xxup xxx pub serves delicious xxmaj xxunk xxmaj xxunk for the cheap price of £ 10 . 50 . xxmaj delicious xxmaj pub food .,xxbos xxmaj the xxup xxx is a low rated coffee shop near xxup yyy and the riverside that is family friendly and is less than £ 20 for xxmaj japanese food .,xxbos xxmaj located near xxmaj the xxup yyy is a xxmaj french xxmaj theme eatery and coffee shop called xxmaj the xxup xxx , with a price range at £ 20 - £ 25 it is in the riverside area .,xxbos xxmaj for luxurious xxmaj french food , the xxup xxx is located by the river next to xxmaj the xxup yyy .\n",
       "Path: .;\n",
       "\n",
       "Valid: LabelList (0 items)\n",
       "x: Seq2SeqTextList\n",
       "\n",
       "y: TextList\n",
       "\n",
       "Path: .;\n",
       "\n",
       "Test: None, model=Seq2SeqRNN_tf(\n",
       "  (emb_enc): Embedding(56, 300, padding_idx=1)\n",
       "  (emb_enc_drop): Dropout(p=0.15, inplace=False)\n",
       "  (gru_enc): GRU(300, 64, num_layers=2, batch_first=True, dropout=0.25)\n",
       "  (out_enc): Linear(in_features=64, out_features=300, bias=False)\n",
       "  (emb_dec): Embedding(1232, 300, padding_idx=1)\n",
       "  (gru_dec): GRU(300, 300, num_layers=2, batch_first=True, dropout=0.1)\n",
       "  (out_drop): Dropout(p=0.35, inplace=False)\n",
       "  (out): Linear(in_features=300, out_features=1232, bias=True)\n",
       "), opt_func=functools.partial(<class 'torch.optim.adam.Adam'>, betas=(0.9, 0.99)), loss_func=<function Loss.seq2seq_loss at 0x3178b5ef0>, metrics=[<function Metrics.seq2seq_acc at 0x3178bc200>, CorpusBLEU\n",
       "vocab_sz: 1232], true_wd=True, bn_wd=True, wd=0.01, train_bn=True, path=PosixPath('.'), model_dir='models', callback_fns=[functools.partial(<class 'fastai.basic_train.Recorder'>, add_time=True, silent=False), functools.partial(<class 'utils.teacher_forcing.TeacherForcing'>, end_epoch=10)], callbacks=[], layer_groups=[Sequential(\n",
       "  (0): Embedding(56, 300, padding_idx=1)\n",
       "  (1): Dropout(p=0.15, inplace=False)\n",
       "  (2): GRU(300, 64, num_layers=2, batch_first=True, dropout=0.25)\n",
       "  (3): Linear(in_features=64, out_features=300, bias=False)\n",
       "  (4): Embedding(1232, 300, padding_idx=1)\n",
       "  (5): GRU(300, 300, num_layers=2, batch_first=True, dropout=0.1)\n",
       "  (6): Dropout(p=0.35, inplace=False)\n",
       "  (7): Linear(in_features=300, out_features=1232, bias=True)\n",
       ")], add_time=True, silent=False)"
      ]
     },
     "execution_count": 6,
     "metadata": {},
     "output_type": "execute_result"
    }
   ],
   "source": [
    "learn = learn.load('model_tf')\n",
    "learn"
   ]
  },
  {
   "cell_type": "code",
   "execution_count": 43,
   "metadata": {},
   "outputs": [
    {
     "data": {
      "text/html": [
       "\n",
       "    <div>\n",
       "        <style>\n",
       "            /* Turns off some styling */\n",
       "            progress {\n",
       "                /* gets rid of default border in Firefox and Opera. */\n",
       "                border: none;\n",
       "                /* Needs to be in here for Safari polyfill so background images work as expected. */\n",
       "                background-size: auto;\n",
       "            }\n",
       "            .progress-bar-interrupted, .progress-bar-interrupted::-webkit-progress-bar {\n",
       "                background: #F44336;\n",
       "            }\n",
       "        </style>\n",
       "      <progress value='657' class='' max='657', style='width:300px; height:20px; vertical-align: middle;'></progress>\n",
       "      100.00% [657/657 03:03<00:00]\n",
       "    </div>\n",
       "    "
      ],
      "text/plain": [
       "<IPython.core.display.HTML object>"
      ]
     },
     "metadata": {},
     "output_type": "display_data"
    }
   ],
   "source": [
    "inputs, targets, outputs = get_predictions(learn,ds_type=DatasetType.Train)"
   ]
  },
  {
   "cell_type": "code",
   "execution_count": 44,
   "metadata": {},
   "outputs": [
    {
     "data": {
      "text/plain": [
       "(Text xxbos xxmaj the xxup xxx , coffee shop , xxmaj french , customer rating 5 out of 5 , price range more than £ 30 , family friendly no , area city centre , near xxup yyy,\n",
       " Text xxbos xxmaj the xxup xxx is a highly rated coffee shop in the xxmaj city xxmaj centre near xxup yyy . xxmaj it is aimed at older upper class people serving fantastic coffee and delicious xxmaj french xxmaj food .,\n",
       " Text xxbos xxmaj the xxup xxx is a coffee shop located in the city centre near xxup yyy . xxmaj it is not family - friendly and has a customer rating of 5 out of 5 . xxmaj it serves xxmaj french food)"
      ]
     },
     "execution_count": 44,
     "metadata": {},
     "output_type": "execute_result"
    }
   ],
   "source": [
    "inputs[0],targets[0],outputs[0]"
   ]
  },
  {
   "cell_type": "code",
   "execution_count": 45,
   "metadata": {},
   "outputs": [],
   "source": [
    "rows = []\n",
    "for i in range(len(inputs)):\n",
    "    row = {\"input\":inputs[i],\"output\":outputs[i],\"target\":targets[i]}\n",
    "    rows.append(row)\n",
    "df = pd.DataFrame(rows)\n",
    "df.to_csv(\"seq2seq_tf_dev.csv\",index=False,sep=\"\\t\")"
   ]
  }
 ],
 "metadata": {
  "kernelspec": {
   "display_name": "seq2seq_env",
   "language": "python",
   "name": "seq2seq_env"
  },
  "language_info": {
   "codemirror_mode": {
    "name": "ipython",
    "version": 3
   },
   "file_extension": ".py",
   "mimetype": "text/x-python",
   "name": "python",
   "nbconvert_exporter": "python",
   "pygments_lexer": "ipython3",
   "version": "3.7.4"
  }
 },
 "nbformat": 4,
 "nbformat_minor": 2
}
