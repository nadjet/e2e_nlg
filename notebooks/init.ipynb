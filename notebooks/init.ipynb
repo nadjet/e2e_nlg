{
 "cells": [
  {
   "cell_type": "markdown",
   "metadata": {},
   "source": [
    "This notebook loads training and validation set in Fastai structures and gets embeddings for both input and output:"
   ]
  },
  {
   "cell_type": "code",
   "execution_count": 1,
   "metadata": {},
   "outputs": [],
   "source": [
    "import numpy as np\n",
    "import random\n",
    "import torch"
   ]
  },
  {
   "cell_type": "code",
   "execution_count": 2,
   "metadata": {},
   "outputs": [],
   "source": [
    "def setReproducibility(seed_value, use_cuda):\n",
    "    np.random.seed(seed_value)\n",
    "    torch.manual_seed(seed_value)\n",
    "    random.seed(seed_value)\n",
    "    if use_cuda: \n",
    "        torch.cuda.manual_seed(seed_value)\n",
    "        torch.cuda.manual_seed_all(seed_value)\n",
    "        torch.backends.cudnn.deterministic = True\n",
    "        torch.backends.cudnn.benchmark = False\n",
    "\n",
    "setReproducibility(42,True)"
   ]
  },
  {
   "cell_type": "markdown",
   "metadata": {},
   "source": [
    "We change working directory to access python package:"
   ]
  },
  {
   "cell_type": "code",
   "execution_count": null,
   "metadata": {},
   "outputs": [],
   "source": [
    "import os\n",
    "from pathlib import Path\n",
    "cwd = os.getcwd()\n",
    "print(\"Working directory before change:\",cwd)\n",
    "path = Path(cwd)\n",
    "os.chdir(path.parent)\n",
    "print(\"Working directory after change:\", os.getcwd())"
   ]
  },
  {
   "cell_type": "code",
   "execution_count": 3,
   "metadata": {},
   "outputs": [],
   "source": [
    "#dataset_path = \"/kaggle/input/e2e-dataset\"\n",
    "#dataset_path = \"/floyd/input/e2e_nlg/\"\n",
    "dataset_path= \"datasets/e2e-nlg\"\n",
    "fasttext_path = \"datasets/fasttext/cc.en.300.bin\"\n",
    "out_path = \"output\"\n",
    "main_path = \".\""
   ]
  },
  {
   "cell_type": "code",
   "execution_count": 5,
   "metadata": {},
   "outputs": [],
   "source": [
    "import pandas as pd\n",
    "from utils.fastai_custom import *\n",
    "from e2e_nlg.loading.loader import E2ENLGDataLoader\n",
    "from utils.seq2seq_embeds import Seq2SeqEmbeddings\n",
    "from seq2seq import *\n",
    "from utils import randm"
   ]
  },
  {
   "cell_type": "code",
   "execution_count": 15,
   "metadata": {},
   "outputs": [],
   "source": [
    "randm.setReproducibility(42,True)\n",
    "pd.set_option('display.max_colwidth', 1000)"
   ]
  },
  {
   "cell_type": "markdown",
   "metadata": {},
   "source": [
    "We load the datasets from csv and create data bunch:"
   ]
  },
  {
   "cell_type": "code",
   "execution_count": 7,
   "metadata": {
    "scrolled": true
   },
   "outputs": [
    {
     "name": "stdout",
     "output_type": "stream",
     "text": [
      "2019-12-29 10:38:12,075 - root - INFO - Maximum size for inputs and outputs is: 95\n",
      "\n",
      "2019-12-29 10:38:13,948 - root - INFO - Size of input vocabulary=56\n",
      "2019-12-29 10:38:13,949 - root - INFO - Size of output vocabulary=1216\n",
      "2019-12-29 10:38:13,950 - root - INFO - Seq2SeqDataBunch;\n",
      "\n",
      "Train: LabelList (42061 items)\n",
      "x: Seq2SeqTextList\n",
      "xxbos xxmaj the xxup xxx , coffee shop , xxmaj italian , customer rating low , price range less than £ 20 , family friendly yes , area riverside , near xxup yyy,xxbos xxup xxx , coffee shop , xxmaj italian , customer rating average , area city centre , near xxup yyy,xxbos xxup xxx , xxmaj english , family friendly yes , area riverside , near the xxup yyy,xxbos xxmaj the xxup xxx , coffee shop , xxmaj french , customer rating low , price range less than £ 20 , family friendly no , near xxup yyy,xxbos xxup xxx , coffee shop , xxmaj french , customer rating 3 out of 5 , price range high , family friendly yes , area riverside\n",
      "y: TextList\n",
      "xxbos xxmaj there is an inexpensive , family - friendly coffee shop near the river and xxup yyy . xxmaj it 's called xxmaj the xxup xxx and serves pasta .,xxbos xxmaj an xxmaj italian coffee shop with an average customer rating . xxup xxx is located near xxup yyy in the city centre .,xxbos xxmaj the xxup xxx is a family friendly xxmaj english restaurant in riverside near xxmaj the xxup yyy .,xxbos xxmaj the xxup xxx coffee shop has only a one star rating and does not xxunk to be family oriented . xxmaj they are located near xxup yyy .,xxbos xxup xxx is a coffee shop near the riverside . xxmaj they are family friendly and serve food . xxmaj they have a high price and have a 3 out of 5 star rating .\n",
      "Path: .;\n",
      "\n",
      "Valid: LabelList (4672 items)\n",
      "x: Seq2SeqTextList\n",
      "xxbos xxup xxx , coffee shop , xxmaj chinese , customer rating 1 out of 5 , price range moderate , family friendly yes , area city centre,xxbos xxup xxx , coffee shop , xxmaj chinese , customer rating 5 out of 5 , family friendly no , area city centre,xxbos xxmaj the xxup xxx , customer rating average , family friendly yes,xxbos xxmaj the xxup xxx , coffee shop , xxmaj english , customer rating high , price range more than £ 30 , family friendly no , area city centre , near xxup yyy,xxbos xxup xxx , coffee shop , xxmaj english , customer rating low , price range less than £ 20 , family friendly yes , area city centre\n",
      "y: TextList\n",
      "xxbos xxup xxx coffee shop has xxmaj chinese food at a moderate price . xxmaj customers rate xxup xxx a 1 out of 5 . xxmaj it is in the city centre and is kid friendly .,xxbos xxup xxx is a coffee shop providing xxmaj chinese food xxmaj it is located in the city centre . xxmaj its customer rating is 5 out of 5 .,xxbos xxmaj the xxup xxx is an average family friendly place .,xxbos xxmaj the xxup xxx coffee shop is a coffee shop with a high customer rating which is situated in the city centre near the xxup yyy . xxmaj it serves xxmaj english food and the price range is above average . xxmaj it is not suitable for children .,xxbos xxup xxx is a family - friendly coffee shop that serves xxmaj english food in the city centre . xxmaj it has a price range of less than £ 20 and also has a low customer rating .\n",
      "Path: .;\n",
      "\n",
      "Test: None\n"
     ]
    }
   ],
   "source": [
    "dl = E2ENLGDataLoader(dataset_path,\"trainset.csv\",\"devset.csv\",percentile=100)\n",
    "dl.setDataAndMaxSize(bs=32)\n",
    "dl.save_data()"
   ]
  },
  {
   "cell_type": "markdown",
   "metadata": {},
   "source": [
    "We create fasttext model embedding for each word in the input and output vocabulary:"
   ]
  },
  {
   "cell_type": "code",
   "execution_count": 8,
   "metadata": {},
   "outputs": [
    {
     "name": "stderr",
     "output_type": "stream",
     "text": [
      "\n"
     ]
    },
    {
     "name": "stdout",
     "output_type": "stream",
     "text": [
      "xxunk\n",
      "xxpad\n",
      "xxbos\n",
      "xxeos\n",
      "xxfld\n",
      "xxmaj\n",
      "xxup\n",
      "xxrep\n",
      "xxwrep\n",
      "xxunk\n",
      "xxpad\n",
      "xxbos\n",
      "xxeos\n",
      "xxfld\n",
      "xxmaj\n",
      "xxup\n",
      "xxrep\n",
      "xxwrep\n",
      "n't\n",
      "xxxs\n",
      "clentele\n",
      "d'oeuvres\n",
      "yyyn\n",
      "d'oeuvre\n",
      "caféteria\n",
      "xxfake\n",
      "xxfake\n",
      "xxfake\n",
      "xxfake\n",
      "xxfake\n",
      "xxfake\n"
     ]
    }
   ],
   "source": [
    "embs = Seq2SeqEmbeddings(dl.data,main_path) \n",
    "embs.set_pretrained_embeddings(model_path=fasttext_path) \n",
    "embs.set_embeddings()"
   ]
  },
  {
   "cell_type": "code",
   "execution_count": null,
   "metadata": {},
   "outputs": [],
   "source": [
    "embs.save_embeddings()"
   ]
  }
 ],
 "metadata": {
  "kernelspec": {
   "display_name": "seq2seq_env",
   "language": "python",
   "name": "seq2seq_env"
  },
  "language_info": {
   "codemirror_mode": {
    "name": "ipython",
    "version": 3
   },
   "file_extension": ".py",
   "mimetype": "text/x-python",
   "name": "python",
   "nbconvert_exporter": "python",
   "pygments_lexer": "ipython3",
   "version": "3.7.4"
  }
 },
 "nbformat": 4,
 "nbformat_minor": 2
}
