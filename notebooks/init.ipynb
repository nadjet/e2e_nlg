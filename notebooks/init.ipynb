{
 "cells": [
  {
   "cell_type": "code",
   "execution_count": 1,
   "metadata": {},
   "outputs": [],
   "source": [
    "import numpy as np\n",
    "import random\n",
    "import torch"
   ]
  },
  {
   "cell_type": "code",
   "execution_count": 2,
   "metadata": {},
   "outputs": [],
   "source": [
    "def setReproducibility(seed_value, use_cuda):\n",
    "    np.random.seed(seed_value)\n",
    "    torch.manual_seed(seed_value)\n",
    "    random.seed(seed_value)\n",
    "    if use_cuda: \n",
    "        torch.cuda.manual_seed(seed_value)\n",
    "        torch.cuda.manual_seed_all(seed_value)\n",
    "        torch.backends.cudnn.deterministic = True\n",
    "        torch.backends.cudnn.benchmark = False\n",
    "\n",
    "setReproducibility(42,True)"
   ]
  },
  {
   "cell_type": "code",
   "execution_count": 1,
   "metadata": {},
   "outputs": [],
   "source": [
    "#dataset_path = \"/kaggle/input/e2e-dataset\"\n",
    "#dataset_path = \"/floyd/input/e2e_nlg/\"\n",
    "dataset_path= \"/Users/nadjet/Work/datasets/e2e-nlg\""
   ]
  },
  {
   "cell_type": "code",
   "execution_count": 2,
   "metadata": {},
   "outputs": [],
   "source": [
    "fasttext_path = \"/Users/nadjet/Work/datasets/fasttext/cc.en.300.bin\""
   ]
  },
  {
   "cell_type": "code",
   "execution_count": 3,
   "metadata": {},
   "outputs": [],
   "source": [
    "main_path = \".\""
   ]
  },
  {
   "cell_type": "markdown",
   "metadata": {},
   "source": [
    "We change working directory to access python package:"
   ]
  },
  {
   "cell_type": "code",
   "execution_count": 4,
   "metadata": {},
   "outputs": [
    {
     "name": "stdout",
     "output_type": "stream",
     "text": [
      "Working directory before change: /Users/nadjet/Work/seq2seq/notebooks\n",
      "Working directory after change: /Users/nadjet/Work/seq2seq\n"
     ]
    }
   ],
   "source": [
    "import os\n",
    "from pathlib import Path\n",
    "cwd = os.getcwd()\n",
    "print(\"Working directory before change:\",cwd)\n",
    "path = Path(cwd)\n",
    "os.chdir(path.parent)\n",
    "print(\"Working directory after change:\", os.getcwd())"
   ]
  },
  {
   "cell_type": "code",
   "execution_count": 5,
   "metadata": {},
   "outputs": [],
   "source": [
    "import pandas as pd\n",
    "from e2e_nlg.loader import E2ENLGDataLoader\n",
    "from utils.embeds import Seq2SeqEmbeddings\n",
    "from seq2seq import *\n",
    "from utils import randm"
   ]
  },
  {
   "cell_type": "code",
   "execution_count": 6,
   "metadata": {},
   "outputs": [],
   "source": [
    "randm.setReproducibility(42,True)\n",
    "pd.set_option('display.max_colwidth', 1000)"
   ]
  },
  {
   "cell_type": "markdown",
   "metadata": {},
   "source": [
    "We load the datasets from csv and create data bunch:"
   ]
  },
  {
   "cell_type": "code",
   "execution_count": 7,
   "metadata": {
    "scrolled": true
   },
   "outputs": [
    {
     "name": "stdout",
     "output_type": "stream",
     "text": [
      "2019-11-16 17:47:21,649 - root - INFO - Maximum size for inputs and outputs is: 42\n",
      "\n",
      "2019-11-16 17:47:21,650 - root - INFO - Size of input vocabulary=56\n",
      "2019-11-16 17:47:21,651 - root - INFO - Size of output vocabulary=1232\n",
      "2019-11-16 17:47:21,652 - root - INFO - Seq2SeqDataBunch;\n",
      "\n",
      "Train: LabelList (40689 items)\n",
      "x: Seq2SeqTextList\n",
      "xxbos xxmaj the xxup xxx , pub , customer rating 5 out of 5 , price range more than £ 30 , near xxup yyy,xxbos xxmaj the xxup xxx , pub , xxmaj english , price range cheap , near xxup yyy,xxbos xxmaj the xxup xxx , coffee shop , xxmaj japanese , customer rating low , price range less than £ 20 , family friendly yes , area riverside , near xxup yyy,xxbos xxmaj the xxup xxx , coffee shop , xxmaj french , price range £ 20 - 25 , area riverside , near the xxup yyy,xxbos xxup xxx , xxmaj french , customer rating high , area riverside , near the xxup yyy\n",
      "y: TextList\n",
      "xxbos xxmaj the xxup xxx pub near xxup yyy has a 5 star rating . xxmaj prices start at £ 30 .,xxbos xxmaj close to xxup yyy , xxmaj the xxup xxx pub serves delicious xxmaj xxunk xxmaj xxunk for the cheap price of £ 10 . 50 . xxmaj delicious xxmaj pub food .,xxbos xxmaj the xxup xxx is a low rated coffee shop near xxup yyy and the riverside that is family friendly and is less than £ 20 for xxmaj japanese food .,xxbos xxmaj located near xxmaj the xxup yyy is a xxmaj french xxmaj theme eatery and coffee shop called xxmaj the xxup xxx , with a price range at £ 20 - £ 25 it is in the riverside area .,xxbos xxmaj for luxurious xxmaj french food , the xxup xxx is located by the river next to xxmaj the xxup yyy .\n",
      "Path: .;\n",
      "\n",
      "Valid: LabelList (4378 items)\n",
      "x: Seq2SeqTextList\n",
      "xxbos xxup xxx , family friendly no , area city centre,xxbos xxup xxx , family friendly no , area city centre,xxbos xxup xxx , family friendly no , area city centre,xxbos xxup xxx , family friendly no , area city centre,xxbos xxup xxx , family friendly no , area city centre\n",
      "y: TextList\n",
      "xxbos xxmaj there is a place in the city centre , xxup xxx , that is not family - friendly .,xxbos xxmaj in the city centre there is a venue name xxup xxx , this is not a family - friendly venue .,xxbos xxup xxx is not a family - friendly place , located in city centre .,xxbos xxup xxx is not a family - friendly xxunk and is located in the city centre .,xxbos xxup xxx is not a family - friendly place in the city centre .\n",
      "Path: .;\n",
      "\n",
      "Test: None\n"
     ]
    }
   ],
   "source": [
    "dl = E2ENLGDataLoader(dataset_path,\"trainset.csv\",\"devset.csv\")\n",
    "dl.setDataAndMaxSize()\n",
    "dl.save_data()"
   ]
  },
  {
   "cell_type": "markdown",
   "metadata": {},
   "source": [
    "We create fasttext model embedding for each word in the input and output vocabulary:"
   ]
  },
  {
   "cell_type": "code",
   "execution_count": 8,
   "metadata": {},
   "outputs": [
    {
     "name": "stderr",
     "output_type": "stream",
     "text": [
      "\n"
     ]
    },
    {
     "name": "stdout",
     "output_type": "stream",
     "text": [
      "xxunk\n",
      "xxpad\n",
      "xxbos\n",
      "xxeos\n",
      "xxfld\n",
      "xxmaj\n",
      "xxup\n",
      "xxrep\n",
      "xxwrep\n",
      "xxunk\n",
      "xxpad\n",
      "xxbos\n",
      "xxeos\n",
      "xxfld\n",
      "xxmaj\n",
      "xxup\n",
      "xxrep\n",
      "xxwrep\n",
      "n't\n",
      "xxxs\n",
      "clentele\n",
      "d'oeuvres\n",
      "-stars\n",
      "d'oeuvre\n",
      "-priced\n",
      "yyyn\n",
      "caféteria\n"
     ]
    }
   ],
   "source": [
    "embs = Seq2SeqEmbeddings(dl.data,main_path) \n",
    "embs.set_pretrained_embeddings(model_path=fasttext_path) \n",
    "embs.set_embeddings()"
   ]
  },
  {
   "cell_type": "code",
   "execution_count": 9,
   "metadata": {},
   "outputs": [
    {
     "name": "stdout",
     "output_type": "stream",
     "text": [
      "2019-11-16 17:48:39,565 - root - INFO - Encoder embeddings saved to: ./enc_emb.pth\n",
      "2019-11-16 17:48:39,566 - root - INFO - Encoder embeddings saved to: ./dec_emb.pth\n"
     ]
    },
    {
     "name": "stderr",
     "output_type": "stream",
     "text": [
      "/Users/nadjet/Work/seq2seq/seq2seq_venv/lib/python3.7/site-packages/torch/serialization.py:292: UserWarning: Couldn't retrieve source code for container of type Embedding. It won't be checked for correctness upon loading.\n",
      "  \"type \" + obj.__name__ + \". It won't be checked \"\n"
     ]
    }
   ],
   "source": [
    "embs.save_embeddings()"
   ]
  }
 ],
 "metadata": {
  "kernelspec": {
   "display_name": "seq2seq_env",
   "language": "python",
   "name": "seq2seq_env"
  },
  "language_info": {
   "codemirror_mode": {
    "name": "ipython",
    "version": 3
   },
   "file_extension": ".py",
   "mimetype": "text/x-python",
   "name": "python",
   "nbconvert_exporter": "python",
   "pygments_lexer": "ipython3",
   "version": "3.7.4"
  }
 },
 "nbformat": 4,
 "nbformat_minor": 2
}
