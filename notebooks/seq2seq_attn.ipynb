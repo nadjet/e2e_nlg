{
 "cells": [
  {
   "cell_type": "code",
   "execution_count": 1,
   "metadata": {},
   "outputs": [
    {
     "name": "stdout",
     "output_type": "stream",
     "text": [
      "2019-11-19 20:59:38,904 - root - INFO - Maximum size for inputs and outputs is: 42\n",
      "\n",
      "2019-11-19 20:59:40,466 - root - INFO - Size of input vocabulary=56\n",
      "2019-11-19 20:59:40,466 - root - INFO - Size of output vocabulary=1232\n",
      "2019-11-19 20:59:40,467 - root - INFO - Seq2SeqDataBunch;\n",
      "\n",
      "Train: LabelList (40689 items)\n",
      "x: Seq2SeqTextList\n",
      "xxbos xxmaj the xxup xxx , pub , customer rating 5 out of 5 , price range more than £ 30 , near xxup yyy,xxbos xxmaj the xxup xxx , pub , xxmaj english , price range cheap , near xxup yyy,xxbos xxmaj the xxup xxx , coffee shop , xxmaj japanese , customer rating low , price range less than £ 20 , family friendly yes , area riverside , near xxup yyy,xxbos xxmaj the xxup xxx , coffee shop , xxmaj french , price range £ 20 - 25 , area riverside , near the xxup yyy,xxbos xxup xxx , xxmaj french , customer rating high , area riverside , near the xxup yyy\n",
      "y: TextList\n",
      "xxbos xxmaj the xxup xxx pub near xxup yyy has a 5 star rating . xxmaj prices start at £ 30 .,xxbos xxmaj close to xxup yyy , xxmaj the xxup xxx pub serves delicious xxmaj xxunk xxmaj xxunk for the cheap price of £ 10 . 50 . xxmaj delicious xxmaj pub food .,xxbos xxmaj the xxup xxx is a low rated coffee shop near xxup yyy and the riverside that is family friendly and is less than £ 20 for xxmaj japanese food .,xxbos xxmaj located near xxmaj the xxup yyy is a xxmaj french xxmaj theme eatery and coffee shop called xxmaj the xxup xxx , with a price range at £ 20 - £ 25 it is in the riverside area .,xxbos xxmaj for luxurious xxmaj french food , the xxup xxx is located by the river next to xxmaj the xxup yyy .\n",
      "Path: .;\n",
      "\n",
      "Valid: LabelList (4378 items)\n",
      "x: Seq2SeqTextList\n",
      "xxbos xxup xxx , family friendly no , area city centre,xxbos xxup xxx , family friendly no , area city centre,xxbos xxup xxx , family friendly no , area city centre,xxbos xxup xxx , family friendly no , area city centre,xxbos xxup xxx , family friendly no , area city centre\n",
      "y: TextList\n",
      "xxbos xxmaj there is a place in the city centre , xxup xxx , that is not family - friendly .,xxbos xxmaj in the city centre there is a venue name xxup xxx , this is not a family - friendly venue .,xxbos xxup xxx is not a family - friendly place , located in city centre .,xxbos xxup xxx is not a family - friendly xxunk and is located in the city centre .,xxbos xxup xxx is not a family - friendly place in the city centre .\n",
      "Path: .;\n",
      "\n",
      "Test: None\n"
     ]
    },
    {
     "name": "stderr",
     "output_type": "stream",
     "text": [
      "\n"
     ]
    },
    {
     "name": "stdout",
     "output_type": "stream",
     "text": [
      "xxunk\n",
      "xxpad\n",
      "xxbos\n",
      "xxeos\n",
      "xxfld\n",
      "xxmaj\n",
      "xxup\n",
      "xxrep\n",
      "xxwrep\n",
      "xxunk\n",
      "xxpad\n",
      "xxbos\n",
      "xxeos\n",
      "xxfld\n",
      "xxmaj\n",
      "xxup\n",
      "xxrep\n",
      "xxwrep\n",
      "n't\n",
      "xxxs\n",
      "clentele\n",
      "d'oeuvres\n",
      "-stars\n",
      "d'oeuvre\n",
      "-priced\n",
      "yyyn\n",
      "caféteria\n",
      "2019-11-19 21:00:59,726 - root - INFO - Encoder embeddings saved to: ./enc_emb.pth\n",
      "2019-11-19 21:00:59,727 - root - INFO - Encoder embeddings saved to: ./dec_emb.pth\n"
     ]
    },
    {
     "name": "stderr",
     "output_type": "stream",
     "text": [
      "/Users/nadjet/Work/seq2seq/seq2seq_venv/lib/python3.7/site-packages/torch/serialization.py:292: UserWarning: Couldn't retrieve source code for container of type Embedding. It won't be checked for correctness upon loading.\n",
      "  \"type \" + obj.__name__ + \". It won't be checked \"\n"
     ]
    }
   ],
   "source": [
    "# requires installing nbformat\n",
    "\n",
    "%run init.ipynb"
   ]
  },
  {
   "cell_type": "code",
   "execution_count": 2,
   "metadata": {},
   "outputs": [],
   "source": [
    "from seq2seq.seq2seq_attn import Seq2SeqRNN_attn\n",
    "from fastai.text import Learner, partial\n",
    "from utils.loss import Loss\n",
    "from utils.bleu import CorpusBLEU\n",
    "from utils.teacher_forcing import TeacherForcing\n",
    "from utils.metrics import Metrics\n",
    "from utils.predict import *\n",
    "import random"
   ]
  },
  {
   "cell_type": "code",
   "execution_count": 3,
   "metadata": {},
   "outputs": [],
   "source": [
    "HIDDEN_LAYER_SIZE = 64\n",
    "MAX_SIZE = dl.max_size\n",
    "emb_enc = embs.emb_enc\n",
    "emb_dec = embs.emb_dec\n",
    "data = dl.data\n",
    "seq2seq_loss = Loss.seq2seq_loss\n",
    "seq2seq_acc = Metrics.seq2seq_acc"
   ]
  },
  {
   "cell_type": "code",
   "execution_count": 7,
   "metadata": {},
   "outputs": [],
   "source": [
    "rnn = Seq2SeqRNN_attn(emb_enc, emb_dec, HIDDEN_LAYER_SIZE, MAX_SIZE)\n",
    "\n",
    "learn = Learner(data, rnn, loss_func=seq2seq_loss, metrics=[seq2seq_acc, CorpusBLEU(len(data.y.vocab.itos))],\n",
    "                callback_fns=partial(TeacherForcing, end_epoch=10),silent=False)"
   ]
  },
  {
   "cell_type": "code",
   "execution_count": 8,
   "metadata": {},
   "outputs": [
    {
     "data": {
      "text/html": [],
      "text/plain": [
       "<IPython.core.display.HTML object>"
      ]
     },
     "metadata": {},
     "output_type": "display_data"
    },
    {
     "name": "stdout",
     "output_type": "stream",
     "text": [
      "LR Finder is complete, type {learner_name}.recorder.plot() to see the graph.\n"
     ]
    }
   ],
   "source": [
    "learn.lr_find(end_lr=2.)"
   ]
  },
  {
   "cell_type": "code",
   "execution_count": 10,
   "metadata": {},
   "outputs": [
    {
     "name": "stdout",
     "output_type": "stream",
     "text": [
      "Min numerical gradient: 1.29E-02\n",
      "Min loss divided by 10: 5.57E-04\n"
     ]
    },
    {
     "data": {
      "image/png": "[encoded data removed]",
      "text/plain": [
       "<Figure size 432x288 with 1 Axes>"
      ]
     },
     "metadata": {
      "needs_background": "light"
     },
     "output_type": "display_data"
    }
   ],
   "source": [
    "learn.recorder.plot(suggestion=True,skip_end=15)"
   ]
  },
  {
   "cell_type": "code",
   "execution_count": 11,
   "metadata": {},
   "outputs": [
    {
     "data": {
      "text/html": [
       "<table border=\"1\" class=\"dataframe\">\n",
       "  <thead>\n",
       "    <tr style=\"text-align: left;\">\n",
       "      <th>epoch</th>\n",
       "      <th>train_loss</th>\n",
       "      <th>valid_loss</th>\n",
       "      <th>seq2seq_acc</th>\n",
       "      <th>bleu</th>\n",
       "      <th>time</th>\n",
       "    </tr>\n",
       "  </thead>\n",
       "  <tbody>\n",
       "    <tr>\n",
       "      <td>0</td>\n",
       "      <td>1.092780</td>\n",
       "      <td>6.616210</td>\n",
       "      <td>0.251346</td>\n",
       "      <td>0.358446</td>\n",
       "      <td>10:02</td>\n",
       "    </tr>\n",
       "    <tr>\n",
       "      <td>1</td>\n",
       "      <td>0.986076</td>\n",
       "      <td>6.169714</td>\n",
       "      <td>0.239421</td>\n",
       "      <td>0.380580</td>\n",
       "      <td>09:47</td>\n",
       "    </tr>\n",
       "    <tr>\n",
       "      <td>2</td>\n",
       "      <td>0.999047</td>\n",
       "      <td>5.640145</td>\n",
       "      <td>0.240640</td>\n",
       "      <td>0.382733</td>\n",
       "      <td>09:24</td>\n",
       "    </tr>\n",
       "  </tbody>\n",
       "</table>"
      ],
      "text/plain": [
       "<IPython.core.display.HTML object>"
      ]
     },
     "metadata": {},
     "output_type": "display_data"
    }
   ],
   "source": [
    "learn.fit_one_cycle(3,  2E-03)"
   ]
  },
  {
   "cell_type": "code",
   "execution_count": 12,
   "metadata": {},
   "outputs": [
    {
     "data": {
      "image/png": "[encoded data removed]",
      "text/plain": [
       "<Figure size 432x288 with 1 Axes>"
      ]
     },
     "metadata": {
      "needs_background": "light"
     },
     "output_type": "display_data"
    }
   ],
   "source": [
    "learn.recorder.plot_losses()"
   ]
  },
  {
   "cell_type": "code",
   "execution_count": 13,
   "metadata": {},
   "outputs": [
    {
     "data": {
      "text/html": [
       "\n",
       "    <div>\n",
       "        <style>\n",
       "            /* Turns off some styling */\n",
       "            progress {\n",
       "                /* gets rid of default border in Firefox and Opera. */\n",
       "                border: none;\n",
       "                /* Needs to be in here for Safari polyfill so background images work as expected. */\n",
       "                background-size: auto;\n",
       "            }\n",
       "            .progress-bar-interrupted, .progress-bar-interrupted::-webkit-progress-bar {\n",
       "                background: #F44336;\n",
       "            }\n",
       "        </style>\n",
       "      <progress value='69' class='' max='69', style='width:300px; height:20px; vertical-align: middle;'></progress>\n",
       "      100.00% [69/69 00:19<00:00]\n",
       "    </div>\n",
       "    "
      ],
      "text/plain": [
       "<IPython.core.display.HTML object>"
      ]
     },
     "metadata": {},
     "output_type": "display_data"
    }
   ],
   "source": [
    "inputs, targets, outputs = get_predictions(learn)"
   ]
  },
  {
   "cell_type": "code",
   "execution_count": 14,
   "metadata": {},
   "outputs": [
    {
     "data": {
      "text/plain": [
       "(Text xxbos xxup xxx , coffee shop , xxmaj english , customer rating 3 out of 5 , family friendly yes , area riverside,\n",
       " Text xxbos xxmaj there is a friendly for kids coffee shop called xxup xxx that provides xxmaj english food in the riverside area . xxmaj the customer rating is 3 out of 5 .,\n",
       " Text xxbos xxup xxx is a kid friendly xxmaj italian coffee shop in the riverside area . xxmaj it has a customer rating of 3 out of 5 .)"
      ]
     },
     "execution_count": 14,
     "metadata": {},
     "output_type": "execute_result"
    }
   ],
   "source": [
    "inputs[2513], targets[2513], outputs[2513]"
   ]
  },
  {
   "cell_type": "code",
   "execution_count": 15,
   "metadata": {},
   "outputs": [
    {
     "data": {
      "text/plain": [
       "(Text xxbos xxmaj the xxup xxx , customer rating 3 out of 5 , area riverside,\n",
       " Text xxbos xxmaj the xxup xxx along the riverside is rated 3 out of 5 .,\n",
       " Text xxbos xxmaj the xxup xxx is a restaurant in the riverside area . xxmaj it has a customer rating of 3 out of 5 .)"
      ]
     },
     "execution_count": 15,
     "metadata": {},
     "output_type": "execute_result"
    }
   ],
   "source": [
    "inputs[4000], targets[4000], outputs[4000]"
   ]
  },
  {
   "cell_type": "code",
   "execution_count": 16,
   "metadata": {},
   "outputs": [],
   "source": [
    "learn.save('model_attn')"
   ]
  },
  {
   "cell_type": "markdown",
   "metadata": {},
   "source": [
    "## Get predictions from dataframe"
   ]
  },
  {
   "cell_type": "code",
   "execution_count": 4,
   "metadata": {},
   "outputs": [
    {
     "name": "stdout",
     "output_type": "stream",
     "text": [
      "2019-11-19 21:02:51,812 - root - INFO - Maximum size for inputs and outputs is: 95\n",
      "\n",
      "2019-11-19 21:02:53,507 - root - INFO - Size of input vocabulary=56\n",
      "2019-11-19 21:02:53,508 - root - INFO - Size of output vocabulary=1232\n",
      "2019-11-19 21:02:53,509 - root - INFO - Seq2SeqDataBunch;\n",
      "\n",
      "Train: LabelList (42061 items)\n",
      "x: Seq2SeqTextList\n",
      "xxbos xxmaj the xxup xxx , pub , customer rating 5 out of 5 , price range more than £ 30 , near xxup yyy,xxbos xxmaj the xxup xxx , pub , xxmaj english , price range cheap , near xxup yyy,xxbos xxmaj the xxup xxx , coffee shop , xxmaj japanese , customer rating low , price range less than £ 20 , family friendly yes , area riverside , near xxup yyy,xxbos xxmaj the xxup xxx , coffee shop , xxmaj french , price range £ 20 - 25 , area riverside , near the xxup yyy,xxbos xxup xxx , xxmaj french , customer rating high , area riverside , near the xxup yyy\n",
      "y: TextList\n",
      "xxbos xxmaj the xxup xxx pub near xxup yyy has a 5 star rating . xxmaj prices start at £ 30 .,xxbos xxmaj close to xxup yyy , xxmaj the xxup xxx pub serves delicious xxmaj xxunk xxmaj xxunk for the cheap price of £ 10 . 50 . xxmaj delicious xxmaj pub food .,xxbos xxmaj the xxup xxx is a low rated coffee shop near xxup yyy and the riverside that is family friendly and is less than £ 20 for xxmaj japanese food .,xxbos xxmaj located near xxmaj the xxup yyy is a xxmaj french xxmaj theme eatery and coffee shop called xxmaj the xxup xxx , with a price range at £ 20 - £ 25 it is in the riverside area .,xxbos xxmaj for luxurious xxmaj french food , the xxup xxx is located by the river next to xxmaj the xxup yyy .\n",
      "Path: .;\n",
      "\n",
      "Valid: LabelList (4672 items)\n",
      "x: Seq2SeqTextList\n",
      "xxbos xxup xxx , family friendly no , area city centre,xxbos xxup xxx , family friendly no , area city centre,xxbos xxup xxx , family friendly no , area city centre,xxbos xxup xxx , family friendly no , area city centre,xxbos xxup xxx , family friendly no , area city centre\n",
      "y: TextList\n",
      "xxbos xxmaj there is a place in the city centre , xxup xxx , that is not family - friendly .,xxbos xxmaj in the city centre there is a venue name xxup xxx , this is not a family - friendly venue .,xxbos xxup xxx is not a family - friendly place , located in city centre .,xxbos xxup xxx is not a family - friendly xxunk and is located in the city centre .,xxbos xxup xxx is not a family - friendly place in the city centre .\n",
      "Path: .;\n",
      "\n",
      "Test: None\n"
     ]
    }
   ],
   "source": [
    "dl0 = E2ENLGDataLoader(dataset_path,\"trainset.csv\",\"devset.csv\",percentile=100)\n",
    "dl0.setDataAndMaxSize()"
   ]
  },
  {
   "cell_type": "code",
   "execution_count": 5,
   "metadata": {},
   "outputs": [
    {
     "data": {
      "text/plain": [
       "42"
      ]
     },
     "execution_count": 5,
     "metadata": {},
     "output_type": "execute_result"
    }
   ],
   "source": [
    "dl.max_size"
   ]
  },
  {
   "cell_type": "code",
   "execution_count": 6,
   "metadata": {},
   "outputs": [],
   "source": [
    "HIDDEN_LAYER_SIZE = 64\n",
    "MAX_SIZE = dl.max_size\n",
    "emb_enc = embs.emb_enc\n",
    "emb_dec = embs.emb_dec\n",
    "data = dl0.data\n",
    "seq2seq_loss = Loss.seq2seq_loss\n",
    "seq2seq_acc = Metrics.seq2seq_acc\n",
    "\n",
    "rnn = Seq2SeqRNN_attn(emb_enc, emb_dec, HIDDEN_LAYER_SIZE, MAX_SIZE)\n",
    "\n",
    "learn = Learner(data, rnn, loss_func=seq2seq_loss, metrics=[seq2seq_acc, CorpusBLEU(len(data.y.vocab.itos))],\n",
    "                callback_fns=partial(TeacherForcing, end_epoch=10),silent=False)"
   ]
  },
  {
   "cell_type": "code",
   "execution_count": 7,
   "metadata": {},
   "outputs": [
    {
     "data": {
      "text/plain": [
       "Learner(data=Seq2SeqDataBunch;\n",
       "\n",
       "Train: LabelList (42061 items)\n",
       "x: Seq2SeqTextList\n",
       "xxbos xxmaj the xxup xxx , pub , customer rating 5 out of 5 , price range more than £ 30 , near xxup yyy,xxbos xxmaj the xxup xxx , pub , xxmaj english , price range cheap , near xxup yyy,xxbos xxmaj the xxup xxx , coffee shop , xxmaj japanese , customer rating low , price range less than £ 20 , family friendly yes , area riverside , near xxup yyy,xxbos xxmaj the xxup xxx , coffee shop , xxmaj french , price range £ 20 - 25 , area riverside , near the xxup yyy,xxbos xxup xxx , xxmaj french , customer rating high , area riverside , near the xxup yyy\n",
       "y: TextList\n",
       "xxbos xxmaj the xxup xxx pub near xxup yyy has a 5 star rating . xxmaj prices start at £ 30 .,xxbos xxmaj close to xxup yyy , xxmaj the xxup xxx pub serves delicious xxmaj xxunk xxmaj xxunk for the cheap price of £ 10 . 50 . xxmaj delicious xxmaj pub food .,xxbos xxmaj the xxup xxx is a low rated coffee shop near xxup yyy and the riverside that is family friendly and is less than £ 20 for xxmaj japanese food .,xxbos xxmaj located near xxmaj the xxup yyy is a xxmaj french xxmaj theme eatery and coffee shop called xxmaj the xxup xxx , with a price range at £ 20 - £ 25 it is in the riverside area .,xxbos xxmaj for luxurious xxmaj french food , the xxup xxx is located by the river next to xxmaj the xxup yyy .\n",
       "Path: .;\n",
       "\n",
       "Valid: LabelList (4672 items)\n",
       "x: Seq2SeqTextList\n",
       "xxbos xxup xxx , family friendly no , area city centre,xxbos xxup xxx , family friendly no , area city centre,xxbos xxup xxx , family friendly no , area city centre,xxbos xxup xxx , family friendly no , area city centre,xxbos xxup xxx , family friendly no , area city centre\n",
       "y: TextList\n",
       "xxbos xxmaj there is a place in the city centre , xxup xxx , that is not family - friendly .,xxbos xxmaj in the city centre there is a venue name xxup xxx , this is not a family - friendly venue .,xxbos xxup xxx is not a family - friendly place , located in city centre .,xxbos xxup xxx is not a family - friendly xxunk and is located in the city centre .,xxbos xxup xxx is not a family - friendly place in the city centre .\n",
       "Path: .;\n",
       "\n",
       "Test: None, model=Seq2SeqRNN_attn(\n",
       "  (emb_enc): Embedding(56, 300, padding_idx=1)\n",
       "  (emb_dec): Embedding(1232, 300, padding_idx=1)\n",
       "  (emb_enc_drop): Dropout(p=0.15, inplace=False)\n",
       "  (gru_enc): GRU(300, 64, num_layers=2, batch_first=True, dropout=0.25, bidirectional=True)\n",
       "  (out_enc): Linear(in_features=128, out_features=300, bias=False)\n",
       "  (gru_dec): GRU(428, 300, num_layers=2, batch_first=True, dropout=0.1)\n",
       "  (out_drop): Dropout(p=0.35, inplace=False)\n",
       "  (out): Linear(in_features=300, out_features=1232, bias=True)\n",
       "  (enc_att): Linear(in_features=128, out_features=300, bias=False)\n",
       "  (hid_att): Linear(in_features=300, out_features=300, bias=True)\n",
       "), opt_func=functools.partial(<class 'torch.optim.adam.Adam'>, betas=(0.9, 0.99)), loss_func=<function Loss.seq2seq_loss at 0x31270b170>, metrics=[<function Metrics.seq2seq_acc at 0x312709440>, CorpusBLEU\n",
       "vocab_sz: 1232], true_wd=True, bn_wd=True, wd=0.01, train_bn=True, path=PosixPath('.'), model_dir='models', callback_fns=[functools.partial(<class 'fastai.basic_train.Recorder'>, add_time=True, silent=False), functools.partial(<class 'utils.teacher_forcing.TeacherForcing'>, end_epoch=10)], callbacks=[], layer_groups=[Sequential(\n",
       "  (0): Embedding(56, 300, padding_idx=1)\n",
       "  (1): Embedding(1232, 300, padding_idx=1)\n",
       "  (2): Dropout(p=0.15, inplace=False)\n",
       "  (3): GRU(300, 64, num_layers=2, batch_first=True, dropout=0.25, bidirectional=True)\n",
       "  (4): Linear(in_features=128, out_features=300, bias=False)\n",
       "  (5): GRU(428, 300, num_layers=2, batch_first=True, dropout=0.1)\n",
       "  (6): Dropout(p=0.35, inplace=False)\n",
       "  (7): Linear(in_features=300, out_features=1232, bias=True)\n",
       "  (8): Linear(in_features=128, out_features=300, bias=False)\n",
       "  (9): Linear(in_features=300, out_features=300, bias=True)\n",
       "  (10): ParameterModule()\n",
       ")], add_time=True, silent=False)"
      ]
     },
     "execution_count": 7,
     "metadata": {},
     "output_type": "execute_result"
    }
   ],
   "source": [
    "learn = learn.load('model_attn')\n",
    "learn"
   ]
  },
  {
   "cell_type": "code",
   "execution_count": 7,
   "metadata": {},
   "outputs": [
    {
     "data": {
      "text/html": [
       "\n",
       "    <div>\n",
       "        <style>\n",
       "            /* Turns off some styling */\n",
       "            progress {\n",
       "                /* gets rid of default border in Firefox and Opera. */\n",
       "                border: none;\n",
       "                /* Needs to be in here for Safari polyfill so background images work as expected. */\n",
       "                background-size: auto;\n",
       "            }\n",
       "            .progress-bar-interrupted, .progress-bar-interrupted::-webkit-progress-bar {\n",
       "                background: #F44336;\n",
       "            }\n",
       "        </style>\n",
       "      <progress value='73' class='' max='73', style='width:300px; height:20px; vertical-align: middle;'></progress>\n",
       "      100.00% [73/73 00:21<00:00]\n",
       "    </div>\n",
       "    "
      ],
      "text/plain": [
       "<IPython.core.display.HTML object>"
      ]
     },
     "metadata": {},
     "output_type": "display_data"
    }
   ],
   "source": [
    "inputs, targets, outputs = get_predictions(learn,ds_type=DatasetType.Valid)"
   ]
  },
  {
   "cell_type": "code",
   "execution_count": 13,
   "metadata": {},
   "outputs": [
    {
     "data": {
      "text/plain": [
       "(Text xxbos xxmaj the xxup xxx , coffee shop , xxmaj chinese , customer rating high , price range £ 20 - 25 , family friendly yes , area city centre , near xxup yyy,\n",
       " Text xxbos xxmaj if you are looking for a coffee shop , try xxmaj the xxup xxx it offers xxmaj chines food and has an average price range with a xxmaj high customer rating . xxmaj it is located near the xxup yyy in the city centre and it is kid friendly,\n",
       " Text xxbos xxmaj the xxup xxx is a xxmaj japanese coffee shop in the city centre near xxup yyy . xxmaj it is kid friendly and has a high customer rating and a price range of £ 20 - 25 .)"
      ]
     },
     "execution_count": 13,
     "metadata": {},
     "output_type": "execute_result"
    }
   ],
   "source": [
    "inputs[10],targets[10],outputs[10]"
   ]
  },
  {
   "cell_type": "code",
   "execution_count": 25,
   "metadata": {},
   "outputs": [],
   "source": [
    "rows = []\n",
    "for i in range(len(inputs)):\n",
    "    row = {\"input\":inputs[i],\"output\":outputs[i],\"target\":targets[i]}\n",
    "    rows.append(row)\n",
    "df = pd.DataFrame(rows)\n",
    "df.to_csv(\"gitignore/attn/seq2seq_attn_dev.csv\",index=False,sep=\"\\t\")"
   ]
  },
  {
   "cell_type": "markdown",
   "metadata": {},
   "source": [
    "## Top-p sampling"
   ]
  },
  {
   "cell_type": "code",
   "execution_count": 8,
   "metadata": {},
   "outputs": [
    {
     "data": {
      "text/html": [
       "\n",
       "    <div>\n",
       "        <style>\n",
       "            /* Turns off some styling */\n",
       "            progress {\n",
       "                /* gets rid of default border in Firefox and Opera. */\n",
       "                border: none;\n",
       "                /* Needs to be in here for Safari polyfill so background images work as expected. */\n",
       "                background-size: auto;\n",
       "            }\n",
       "            .progress-bar-interrupted, .progress-bar-interrupted::-webkit-progress-bar {\n",
       "                background: #F44336;\n",
       "            }\n",
       "        </style>\n",
       "      <progress value='73' class='' max='73', style='width:300px; height:20px; vertical-align: middle;'></progress>\n",
       "      100.00% [73/73 00:20<00:00]\n",
       "    </div>\n",
       "    "
      ],
      "text/plain": [
       "<IPython.core.display.HTML object>"
      ]
     },
     "metadata": {},
     "output_type": "display_data"
    }
   ],
   "source": [
    "rxs,rys,rzs,xs,ys,zs = preds_acts(learn)"
   ]
  },
  {
   "cell_type": "code",
   "execution_count": 9,
   "metadata": {},
   "outputs": [
    {
     "data": {
      "text/plain": [
       "(Text xxbos xxmaj the xxup xxx , coffee shop , xxmaj chinese , customer rating high , price range £ 20 - 25 , family friendly yes , area city centre , near xxup yyy,\n",
       " Text xxbos xxmaj if you are looking for a coffee shop , try xxmaj the xxup xxx it offers xxmaj chines food and has an average price range with a xxmaj high customer rating . xxmaj it is located near the xxup yyy in the city centre and it is kid friendly,\n",
       " Text xxbos xxmaj the xxup xxx is a xxmaj japanese coffee shop in the city centre near xxup yyy . xxmaj it is kid friendly and has a high customer rating and a price range of £ 20 - 25 .)"
      ]
     },
     "execution_count": 9,
     "metadata": {},
     "output_type": "execute_result"
    }
   ],
   "source": [
    "idx=10\n",
    "rx,ry,rz = rxs[idx],rys[idx],rzs[idx]\n",
    "x,y,z = xs[idx],ys[idx],zs[idx]\n",
    "rx,ry,rz"
   ]
  },
  {
   "cell_type": "code",
   "execution_count": 47,
   "metadata": {},
   "outputs": [
    {
     "data": {
      "text/plain": [
       "Text xxbos xxmaj the xxup xxx is a coffee shop that xxmaj chinese food . xxmaj it is located in the city centre near xxup yyy . xxmaj it is a kids friendly coffee shop and has a high customer rating ."
      ]
     },
     "execution_count": 47,
     "metadata": {},
     "output_type": "execute_result"
    }
   ],
   "source": [
    "rx,ry,rz = predict_with_decode(learn, x, y,p=0.5)\n",
    "rz"
   ]
  },
  {
   "cell_type": "code",
   "execution_count": 48,
   "metadata": {},
   "outputs": [],
   "source": [
    "rows = []\n",
    "for idx in range(len(rxs)):\n",
    "    rx,ry,rz = rxs[idx],rys[idx],rzs[idx]\n",
    "    x,y,z = xs[idx],ys[idx],zs[idx]\n",
    "    px,py,pz = predict_with_decode(learn, x, y)\n",
    "    row = {\"input\":rx,\"target\":ry,\"output\":pz}\n",
    "    rows.append(row)"
   ]
  },
  {
   "cell_type": "code",
   "execution_count": 49,
   "metadata": {},
   "outputs": [],
   "source": [
    "df = pd.DataFrame(rows)\n",
    "df.to_csv(\"gitignore/attn/top_p.csv\",sep=\"\\t\",index=False)"
   ]
  },
  {
   "cell_type": "code",
   "execution_count": 50,
   "metadata": {},
   "outputs": [
    {
     "data": {
      "text/html": [
       "<div>\n",
       "<style scoped>\n",
       "    .dataframe tbody tr th:only-of-type {\n",
       "        vertical-align: middle;\n",
       "    }\n",
       "\n",
       "    .dataframe tbody tr th {\n",
       "        vertical-align: top;\n",
       "    }\n",
       "\n",
       "    .dataframe thead th {\n",
       "        text-align: right;\n",
       "    }\n",
       "</style>\n",
       "<table border=\"1\" class=\"dataframe\">\n",
       "  <thead>\n",
       "    <tr style=\"text-align: right;\">\n",
       "      <th></th>\n",
       "      <th>input</th>\n",
       "      <th>target</th>\n",
       "      <th>output</th>\n",
       "    </tr>\n",
       "  </thead>\n",
       "  <tbody>\n",
       "    <tr>\n",
       "      <th>1591</th>\n",
       "      <td>xxbos xxmaj the xxup xxx , coffee shop , customer rating 1 out of 5 , family friendly yes , area riverside , near xxup yyy</td>\n",
       "      <td>xxbos xxmaj the xxup xxx is a coffee shop near xxup yyy and the riverside and is kid friendly with a customer rating of 1 out of 5 .</td>\n",
       "      <td>xxbos xxmaj the xxup xxx is a family friendly coffee shop located near xxup yyy in the riverside area . xxmaj it has a customer rating of 1 out of 5 .</td>\n",
       "    </tr>\n",
       "    <tr>\n",
       "      <th>3678</th>\n",
       "      <td>xxbos xxup xxx , coffee shop , xxmaj english , family friendly yes , area riverside , near xxup yyy</td>\n",
       "      <td>xxbos xxmaj near xxup yyy , xxup xxx is a child - friendly coffee shop in the riverside area .</td>\n",
       "      <td>xxbos xxmaj near xxup yyy , xxup xxx is a kid friendly xxmaj french coffee shop .</td>\n",
       "    </tr>\n",
       "    <tr>\n",
       "      <th>3083</th>\n",
       "      <td>xxbos xxmaj the xxup xxx , coffee shop , xxmaj english , price range cheap , area riverside , near the xxup yyy</td>\n",
       "      <td>xxbos xxmaj the xxup xxx is xxunk cheap xxmaj english food with a coffee shop atmosphere . xxmaj it is near xxmaj the xxup yyy around the riverside area .</td>\n",
       "      <td>xxbos xxmaj the xxup xxx is a cheap , a coffee shop serving xxmaj french food in xxmaj it is located near xxmaj the xxup yyy in the riverside area .</td>\n",
       "    </tr>\n",
       "    <tr>\n",
       "      <th>946</th>\n",
       "      <td>xxbos xxup xxx , coffee shop , xxmaj chinese , customer rating high , price range £ 20 - 25 , family friendly yes , area city centre</td>\n",
       "      <td>xxbos xxup xxx coffee shop provides xxmaj chines food in the city centre . xxmaj it is children friendly , mid priced and has a high customer rating .</td>\n",
       "      <td>xxbos xxup xxx is a coffee shop that serves xxmaj chinese food in the £ 20 - 25 price range . xxmaj it is located in the city centre . xxmaj its customer rating is high .</td>\n",
       "    </tr>\n",
       "    <tr>\n",
       "      <th>1648</th>\n",
       "      <td>xxbos xxmaj the xxup xxx , coffee shop , customer rating 5 out of 5 , family friendly yes , area riverside , near xxup yyy</td>\n",
       "      <td>xxbos xxmaj in the riverside area there is a child friendly coffee shop called xxmaj the xxup xxx . xxmaj this has a star rating of 5 out of 5 and is situated near xxup yyy .</td>\n",
       "      <td>xxbos xxmaj the xxup xxx is a coffee shop near xxup yyy . xxmaj it is located in the riverside area and is kid friendly . xxmaj its customer rating is 5 out of 5 .</td>\n",
       "    </tr>\n",
       "  </tbody>\n",
       "</table>\n",
       "</div>"
      ],
      "text/plain": [
       "                                                                                                                                     input  \\\n",
       "1591            xxbos xxmaj the xxup xxx , coffee shop , customer rating 1 out of 5 , family friendly yes , area riverside , near xxup yyy   \n",
       "3678                                   xxbos xxup xxx , coffee shop , xxmaj english , family friendly yes , area riverside , near xxup yyy   \n",
       "3083                       xxbos xxmaj the xxup xxx , coffee shop , xxmaj english , price range cheap , area riverside , near the xxup yyy   \n",
       "946   xxbos xxup xxx , coffee shop , xxmaj chinese , customer rating high , price range £ 20 - 25 , family friendly yes , area city centre   \n",
       "1648            xxbos xxmaj the xxup xxx , coffee shop , customer rating 5 out of 5 , family friendly yes , area riverside , near xxup yyy   \n",
       "\n",
       "                                                                                                                                                                              target  \\\n",
       "1591                                            xxbos xxmaj the xxup xxx is a coffee shop near xxup yyy and the riverside and is kid friendly with a customer rating of 1 out of 5 .   \n",
       "3678                                                                                  xxbos xxmaj near xxup yyy , xxup xxx is a child - friendly coffee shop in the riverside area .   \n",
       "3083                      xxbos xxmaj the xxup xxx is xxunk cheap xxmaj english food with a coffee shop atmosphere . xxmaj it is near xxmaj the xxup yyy around the riverside area .   \n",
       "946                           xxbos xxup xxx coffee shop provides xxmaj chines food in the city centre . xxmaj it is children friendly , mid priced and has a high customer rating .   \n",
       "1648  xxbos xxmaj in the riverside area there is a child friendly coffee shop called xxmaj the xxup xxx . xxmaj this has a star rating of 5 out of 5 and is situated near xxup yyy .   \n",
       "\n",
       "                                                                                                                                                                          output  \n",
       "1591                      xxbos xxmaj the xxup xxx is a family friendly coffee shop located near xxup yyy in the riverside area . xxmaj it has a customer rating of 1 out of 5 .  \n",
       "3678                                                                                           xxbos xxmaj near xxup yyy , xxup xxx is a kid friendly xxmaj french coffee shop .  \n",
       "3083                        xxbos xxmaj the xxup xxx is a cheap , a coffee shop serving xxmaj french food in xxmaj it is located near xxmaj the xxup yyy in the riverside area .  \n",
       "946   xxbos xxup xxx is a coffee shop that serves xxmaj chinese food in the £ 20 - 25 price range . xxmaj it is located in the city centre . xxmaj its customer rating is high .  \n",
       "1648         xxbos xxmaj the xxup xxx is a coffee shop near xxup yyy . xxmaj it is located in the riverside area and is kid friendly . xxmaj its customer rating is 5 out of 5 .  "
      ]
     },
     "execution_count": 50,
     "metadata": {},
     "output_type": "execute_result"
    }
   ],
   "source": [
    "df.sample(5)"
   ]
  },
  {
   "cell_type": "markdown",
   "metadata": {},
   "source": [
    "## Prepare for evaluation against e2e NLG baseline"
   ]
  },
  {
   "cell_type": "code",
   "execution_count": 7,
   "metadata": {},
   "outputs": [],
   "source": [
    "import pandas as pd\n",
    "pd.set_option('display.max_colwidth', 1000)"
   ]
  },
  {
   "cell_type": "code",
   "execution_count": 8,
   "metadata": {},
   "outputs": [
    {
     "name": "stdout",
     "output_type": "stream",
     "text": [
      "Working directory before change: /Users/nadjet/Work/seq2seq\n",
      "Working directory after change: /Users/nadjet/Work\n"
     ]
    }
   ],
   "source": [
    "import os\n",
    "from pathlib import Path\n",
    "cwd = os.getcwd()\n",
    "print(\"Working directory before change:\",cwd)\n",
    "path = Path(cwd)\n",
    "path = path.parent\n",
    "os.chdir(path)\n",
    "print(\"Working directory after change:\", os.getcwd())"
   ]
  },
  {
   "cell_type": "code",
   "execution_count": 4,
   "metadata": {},
   "outputs": [
    {
     "data": {
      "text/html": [
       "<div>\n",
       "<style scoped>\n",
       "    .dataframe tbody tr th:only-of-type {\n",
       "        vertical-align: middle;\n",
       "    }\n",
       "\n",
       "    .dataframe tbody tr th {\n",
       "        vertical-align: top;\n",
       "    }\n",
       "\n",
       "    .dataframe thead th {\n",
       "        text-align: right;\n",
       "    }\n",
       "</style>\n",
       "<table border=\"1\" class=\"dataframe\">\n",
       "  <thead>\n",
       "    <tr style=\"text-align: right;\">\n",
       "      <th></th>\n",
       "      <th>input</th>\n",
       "      <th>output</th>\n",
       "      <th>target</th>\n",
       "    </tr>\n",
       "  </thead>\n",
       "  <tbody>\n",
       "    <tr>\n",
       "      <th>4510</th>\n",
       "      <td>xxbos xxmaj the xxup xxx , customer rating low , family friendly yes</td>\n",
       "      <td>xxbos xxmaj the xxup xxx is a family friendly restaurant with a low customer rating .</td>\n",
       "      <td>xxbos xxmaj the xxup xxx is a family friendly place with a low rating .</td>\n",
       "    </tr>\n",
       "    <tr>\n",
       "      <th>2795</th>\n",
       "      <td>xxbos xxup xxx , coffee shop , xxmaj english , customer rating 3 out of 5 , family friendly yes , area riverside</td>\n",
       "      <td>xxbos xxup xxx is a kid friendly xxmaj italian coffee shop in the riverside area . xxmaj it has a customer rating of 3 out of 5 .</td>\n",
       "      <td>xxbos xxup xxx is a coffee shop that provides xxmaj english food in the riverside area . xxmaj it is friendly for kids and the customer rating is 3 out of 5 .</td>\n",
       "    </tr>\n",
       "    <tr>\n",
       "      <th>4476</th>\n",
       "      <td>xxbos xxmaj the xxup xxx , customer rating high , family friendly yes</td>\n",
       "      <td>xxbos xxmaj the xxup xxx is a child friendly restaurant with a high customer rating .</td>\n",
       "      <td>xxbos xxmaj highly rated xxmaj the xxup xxx is kid friendly .</td>\n",
       "    </tr>\n",
       "    <tr>\n",
       "      <th>3917</th>\n",
       "      <td>xxbos xxmaj the xxup xxx , customer rating high , family friendly yes , near the xxup yyy</td>\n",
       "      <td>xxbos xxmaj the xxup xxx is a child friendly restaurant near xxmaj the xxup yyy . xxmaj it has a high customer rating .</td>\n",
       "      <td>xxbos xxmaj by xxmaj the xxup yyy , there 's a high rated and kid friendly place called xxmaj the xxup xxx .</td>\n",
       "    </tr>\n",
       "    <tr>\n",
       "      <th>2865</th>\n",
       "      <td>xxbos xxmaj the xxup xxx , coffee shop , customer rating average , family friendly no , area riverside , near xxup yyy</td>\n",
       "      <td>xxbos xxmaj the xxup xxx is a coffee shop near xxup yyy in the riverside area . xxmaj it is not family - friendly and has an average customer rating .</td>\n",
       "      <td>xxbos xxmaj there is a no family - friendly coffee shop xxmaj the xxup xxx located near xxup yyy in the riverside . xxmaj its customer rating is average .</td>\n",
       "    </tr>\n",
       "  </tbody>\n",
       "</table>\n",
       "</div>"
      ],
      "text/plain": [
       "                                                                                                                       input  \\\n",
       "4510                                                    xxbos xxmaj the xxup xxx , customer rating low , family friendly yes   \n",
       "2795        xxbos xxup xxx , coffee shop , xxmaj english , customer rating 3 out of 5 , family friendly yes , area riverside   \n",
       "4476                                                   xxbos xxmaj the xxup xxx , customer rating high , family friendly yes   \n",
       "3917                               xxbos xxmaj the xxup xxx , customer rating high , family friendly yes , near the xxup yyy   \n",
       "2865  xxbos xxmaj the xxup xxx , coffee shop , customer rating average , family friendly no , area riverside , near xxup yyy   \n",
       "\n",
       "                                                                                                                                                      output  \\\n",
       "4510                                                                   xxbos xxmaj the xxup xxx is a family friendly restaurant with a low customer rating .   \n",
       "2795                       xxbos xxup xxx is a kid friendly xxmaj italian coffee shop in the riverside area . xxmaj it has a customer rating of 3 out of 5 .   \n",
       "4476                                                                   xxbos xxmaj the xxup xxx is a child friendly restaurant with a high customer rating .   \n",
       "3917                                 xxbos xxmaj the xxup xxx is a child friendly restaurant near xxmaj the xxup yyy . xxmaj it has a high customer rating .   \n",
       "2865  xxbos xxmaj the xxup xxx is a coffee shop near xxup yyy in the riverside area . xxmaj it is not family - friendly and has an average customer rating .   \n",
       "\n",
       "                                                                                                                                                              target  \n",
       "4510                                                                                         xxbos xxmaj the xxup xxx is a family friendly place with a low rating .  \n",
       "2795  xxbos xxup xxx is a coffee shop that provides xxmaj english food in the riverside area . xxmaj it is friendly for kids and the customer rating is 3 out of 5 .  \n",
       "4476                                                                                                   xxbos xxmaj highly rated xxmaj the xxup xxx is kid friendly .  \n",
       "3917                                                    xxbos xxmaj by xxmaj the xxup yyy , there 's a high rated and kid friendly place called xxmaj the xxup xxx .  \n",
       "2865      xxbos xxmaj there is a no family - friendly coffee shop xxmaj the xxup xxx located near xxup yyy in the riverside . xxmaj its customer rating is average .  "
      ]
     },
     "execution_count": 4,
     "metadata": {},
     "output_type": "execute_result"
    }
   ],
   "source": [
    "df = pd.read_csv(\"gitignore/attn/seq2seq_attn_dev.csv\",sep=\"\\t\")\n",
    "df.sample(5)"
   ]
  },
  {
   "cell_type": "code",
   "execution_count": 52,
   "metadata": {},
   "outputs": [],
   "source": [
    "from e2e_nlg.evaluation.pipeline import DataFormattingPipeline"
   ]
  },
  {
   "cell_type": "code",
   "execution_count": 53,
   "metadata": {},
   "outputs": [
    {
     "name": "stdout",
     "output_type": "stream",
     "text": [
      "2019-11-19 21:30:20,338 - root - INFO - Formatting the MRs in the output...\n",
      "2019-11-19 21:30:21,544 - root - INFO - ...Formatting the MRs in the output done! Written to: gitignore/attn/formatted_output.csv\n",
      "2019-11-19 21:30:21,545 - root - INFO - Relexicalizing output MRs and texts...\n",
      "2019-11-19 21:30:46,971 - root - INFO - Wrote relexicalized data to gitignore/attn/lexicalized_output.csv\n",
      "2019-11-19 21:30:46,972 - root - INFO - ...Relexicalizing output MRs and texts done! Written to: gitignore/attn/lexicalized_output.csv\n",
      "2019-11-19 21:30:46,972 - root - INFO - Splitting reference into MRs and output files...\n",
      "2019-11-19 21:30:47,712 - root - INFO - Saved grouped references to gitignore/attn/ref_e2e_nlg.txt\n",
      "2019-11-19 21:30:47,717 - root - INFO - Saved grouped references to gitignore/attn/mr_e2e_nlg.txt\n",
      "2019-11-19 21:30:47,719 - root - INFO - ...Splitting reference into MRs and output files done!\n",
      "2019-11-19 21:30:47,719 - root - INFO - Writing output in same order as MRs...\n",
      "2019-11-19 21:30:51,921 - root - INFO - Predictions written to gitignore/attn/pred_e2e_nlg.txt\n",
      "2019-11-19 21:30:51,923 - root - INFO - ...Writing output in same order as MRs done!\n",
      "2019-11-19 21:30:51,923 - root - INFO - References file=gitignore/attn/ref_e2e_nlg.txt\n",
      "2019-11-19 21:30:51,924 - root - INFO - Outputs file=gitignore/attn/pred_e2e_nlg.txt\n"
     ]
    }
   ],
   "source": [
    "#pipeline = DataFormattingPipeline(output_file=\"gitignore/attn/seq2seq_attn_dev.csv\",ref_file=\"gitignore/devset.csv\",output_folder=\"gitignore/attn\")\n",
    "pipeline = DataFormattingPipeline(output_file=\"gitignore/attn/top_p.csv\",ref_file=\"gitignore/devset.csv\",output_folder=\"gitignore/attn\")\n",
    "pipeline.prepare_data()"
   ]
  },
  {
   "cell_type": "markdown",
   "metadata": {},
   "source": [
    "## Use top-p sampling"
   ]
  },
  {
   "cell_type": "code",
   "execution_count": 9,
   "metadata": {},
   "outputs": [
    {
     "data": {
      "text/html": [
       "\n",
       "    <div>\n",
       "        <style>\n",
       "            /* Turns off some styling */\n",
       "            progress {\n",
       "                /* gets rid of default border in Firefox and Opera. */\n",
       "                border: none;\n",
       "                /* Needs to be in here for Safari polyfill so background images work as expected. */\n",
       "                background-size: auto;\n",
       "            }\n",
       "            .progress-bar-interrupted, .progress-bar-interrupted::-webkit-progress-bar {\n",
       "                background: #F44336;\n",
       "            }\n",
       "        </style>\n",
       "      <progress value='73' class='' max='73', style='width:300px; height:20px; vertical-align: middle;'></progress>\n",
       "      100.00% [73/73 00:22<00:00]\n",
       "    </div>\n",
       "    "
      ],
      "text/plain": [
       "<IPython.core.display.HTML object>"
      ]
     },
     "metadata": {},
     "output_type": "display_data"
    }
   ],
   "source": [
    "rxs,rys,rzs,xs,ys,zs = preds_acts(learn)"
   ]
  },
  {
   "cell_type": "code",
   "execution_count": 12,
   "metadata": {},
   "outputs": [
    {
     "data": {
      "text/plain": [
       "(Text xxbos xxmaj the xxup xxx , coffee shop , xxmaj chinese , customer rating high , price range £ 20 - 25 , family friendly yes , area city centre , near xxup yyy,\n",
       " Text xxbos xxmaj if you are looking for a coffee shop , try xxmaj the xxup xxx it offers xxmaj chines food and has an average price range with a xxmaj high customer rating . xxmaj it is located near the xxup yyy in the city centre and it is kid friendly,\n",
       " Text xxbos xxmaj the xxup xxx is a xxmaj japanese coffee shop in the city centre near xxup yyy . xxmaj it is kid friendly and has a high customer rating and a price range of £ 20 - 25 .)"
      ]
     },
     "execution_count": 12,
     "metadata": {},
     "output_type": "execute_result"
    }
   ],
   "source": [
    "idx=10\n",
    "rx,ry,rz = rxs[idx],rys[idx],rzs[idx]\n",
    "x,y,z = xs[idx],ys[idx],zs[idx]\n",
    "rx,ry,rz"
   ]
  },
  {
   "cell_type": "code",
   "execution_count": 13,
   "metadata": {},
   "outputs": [
    {
     "ename": "TypeError",
     "evalue": "decoder() missing 2 required positional arguments: 'enc_att' and 'enc_out'",
     "output_type": "error",
     "traceback": [
      "\u001b[0;31m---------------------------------------------------------------------------\u001b[0m",
      "\u001b[0;31mTypeError\u001b[0m                                 Traceback (most recent call last)",
      "\u001b[0;32m<ipython-input-13-07e60d1adcd8>\u001b[0m in \u001b[0;36m<module>\u001b[0;34m\u001b[0m\n\u001b[0;32m----> 1\u001b[0;31m \u001b[0mrx\u001b[0m\u001b[0;34m,\u001b[0m\u001b[0mry\u001b[0m\u001b[0;34m,\u001b[0m\u001b[0mrz\u001b[0m \u001b[0;34m=\u001b[0m \u001b[0mpredict_with_decode\u001b[0m\u001b[0;34m(\u001b[0m\u001b[0mlearn\u001b[0m\u001b[0;34m,\u001b[0m \u001b[0mx\u001b[0m\u001b[0;34m,\u001b[0m \u001b[0my\u001b[0m\u001b[0;34m)\u001b[0m\u001b[0;34m\u001b[0m\u001b[0;34m\u001b[0m\u001b[0m\n\u001b[0m\u001b[1;32m      2\u001b[0m \u001b[0mrz\u001b[0m\u001b[0;34m\u001b[0m\u001b[0;34m\u001b[0m\u001b[0m\n",
      "\u001b[0;32m~/Work/seq2seq/utils/predict.py\u001b[0m in \u001b[0;36mpredict_with_decode\u001b[0;34m(learn, x, y)\u001b[0m\n\u001b[1;32m     58\u001b[0m     \u001b[0mds\u001b[0m \u001b[0;34m=\u001b[0m \u001b[0mlearn\u001b[0m\u001b[0;34m.\u001b[0m\u001b[0mdata\u001b[0m\u001b[0;34m.\u001b[0m\u001b[0mtrain_ds\u001b[0m\u001b[0;34m\u001b[0m\u001b[0;34m\u001b[0m\u001b[0m\n\u001b[1;32m     59\u001b[0m     \u001b[0;32mwith\u001b[0m \u001b[0mtorch\u001b[0m\u001b[0;34m.\u001b[0m\u001b[0mno_grad\u001b[0m\u001b[0;34m(\u001b[0m\u001b[0;34m)\u001b[0m\u001b[0;34m:\u001b[0m\u001b[0;34m\u001b[0m\u001b[0;34m\u001b[0m\u001b[0m\n\u001b[0;32m---> 60\u001b[0;31m         \u001b[0mout\u001b[0m \u001b[0;34m=\u001b[0m \u001b[0mdecode\u001b[0m\u001b[0;34m(\u001b[0m\u001b[0mlearn\u001b[0m\u001b[0;34m.\u001b[0m\u001b[0mmodel\u001b[0m\u001b[0;34m,\u001b[0m \u001b[0mx\u001b[0m\u001b[0;34m)\u001b[0m\u001b[0;34m\u001b[0m\u001b[0;34m\u001b[0m\u001b[0m\n\u001b[0m\u001b[1;32m     61\u001b[0m         \u001b[0mrx\u001b[0m \u001b[0;34m=\u001b[0m \u001b[0mds\u001b[0m\u001b[0;34m.\u001b[0m\u001b[0mx\u001b[0m\u001b[0;34m.\u001b[0m\u001b[0mreconstruct\u001b[0m\u001b[0;34m(\u001b[0m\u001b[0mx\u001b[0m\u001b[0;34m)\u001b[0m\u001b[0;34m\u001b[0m\u001b[0;34m\u001b[0m\u001b[0m\n\u001b[1;32m     62\u001b[0m         \u001b[0mry\u001b[0m \u001b[0;34m=\u001b[0m \u001b[0mds\u001b[0m\u001b[0;34m.\u001b[0m\u001b[0my\u001b[0m\u001b[0;34m.\u001b[0m\u001b[0mreconstruct\u001b[0m\u001b[0;34m(\u001b[0m\u001b[0my\u001b[0m\u001b[0;34m)\u001b[0m\u001b[0;34m\u001b[0m\u001b[0;34m\u001b[0m\u001b[0m\n",
      "\u001b[0;32m~/Work/seq2seq/utils/predict.py\u001b[0m in \u001b[0;36mdecode\u001b[0;34m(model, inp)\u001b[0m\n\u001b[1;32m     47\u001b[0m     \u001b[0mres\u001b[0m \u001b[0;34m=\u001b[0m \u001b[0;34m[\u001b[0m\u001b[0;34m]\u001b[0m\u001b[0;34m\u001b[0m\u001b[0;34m\u001b[0m\u001b[0m\n\u001b[1;32m     48\u001b[0m     \u001b[0;32mfor\u001b[0m \u001b[0mi\u001b[0m \u001b[0;32min\u001b[0m \u001b[0mrange\u001b[0m\u001b[0;34m(\u001b[0m\u001b[0mmodel\u001b[0m\u001b[0;34m.\u001b[0m\u001b[0mout_sl\u001b[0m\u001b[0;34m)\u001b[0m\u001b[0;34m:\u001b[0m\u001b[0;34m\u001b[0m\u001b[0;34m\u001b[0m\u001b[0m\n\u001b[0;32m---> 49\u001b[0;31m         \u001b[0mhid\u001b[0m\u001b[0;34m,\u001b[0m \u001b[0moutp\u001b[0m \u001b[0;34m=\u001b[0m \u001b[0mmodel\u001b[0m\u001b[0;34m.\u001b[0m\u001b[0mdecoder\u001b[0m\u001b[0;34m(\u001b[0m\u001b[0mdec_inp\u001b[0m\u001b[0;34m,\u001b[0m \u001b[0mhid\u001b[0m\u001b[0;34m)\u001b[0m\u001b[0;34m\u001b[0m\u001b[0;34m\u001b[0m\u001b[0m\n\u001b[0m\u001b[1;32m     50\u001b[0m         \u001b[0;31m#dec_inp = select_nucleus(outp[0], p=0.5)\u001b[0m\u001b[0;34m\u001b[0m\u001b[0;34m\u001b[0m\u001b[0;34m\u001b[0m\u001b[0m\n\u001b[1;32m     51\u001b[0m         \u001b[0mdec_inp\u001b[0m \u001b[0;34m=\u001b[0m \u001b[0mselect_topk\u001b[0m\u001b[0;34m(\u001b[0m\u001b[0moutp\u001b[0m\u001b[0;34m[\u001b[0m\u001b[0;36m0\u001b[0m\u001b[0;34m]\u001b[0m\u001b[0;34m,\u001b[0m \u001b[0mk\u001b[0m\u001b[0;34m=\u001b[0m\u001b[0;36m1\u001b[0m\u001b[0;34m)\u001b[0m\u001b[0;34m\u001b[0m\u001b[0;34m\u001b[0m\u001b[0m\n",
      "\u001b[0;31mTypeError\u001b[0m: decoder() missing 2 required positional arguments: 'enc_att' and 'enc_out'"
     ]
    }
   ],
   "source": [
    "rx,ry,rz = predict_with_decode(learn, x, y)\n",
    "rz"
   ]
  },
  {
   "cell_type": "code",
   "execution_count": null,
   "metadata": {},
   "outputs": [],
   "source": []
  }
 ],
 "metadata": {
  "kernelspec": {
   "display_name": "seq2seq_env",
   "language": "python",
   "name": "seq2seq_env"
  },
  "language_info": {
   "codemirror_mode": {
    "name": "ipython",
    "version": 3
   },
   "file_extension": ".py",
   "mimetype": "text/x-python",
   "name": "python",
   "nbconvert_exporter": "python",
   "pygments_lexer": "ipython3",
   "version": "3.7.4"
  }
 },
 "nbformat": 4,
 "nbformat_minor": 2
}
